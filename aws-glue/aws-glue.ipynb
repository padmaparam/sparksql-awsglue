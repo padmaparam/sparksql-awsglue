{
 "cells": [
  {
   "cell_type": "code",
   "execution_count": 1,
   "id": "ea2742d5",
   "metadata": {},
   "outputs": [],
   "source": [
    "# enable pyspark\n",
    "import findspark\n",
    "findspark.init()"
   ]
  },
  {
   "cell_type": "code",
   "execution_count": 2,
   "id": "fc74226f",
   "metadata": {},
   "outputs": [
    {
     "name": "stdout",
     "output_type": "stream",
     "text": [
      "<SparkContext master=local[*] appName=pyspark_aw_glue>\n"
     ]
    }
   ],
   "source": [
    "from pyspark import SparkContext, SparkConf\n",
    "# ref: https://towardsai.net/p/programming/pyspark-aws-s3-read-write-operations\n",
    "#spark configuration\n",
    "conf = SparkConf().set('spark.executor.extraJavaOptions','-Dcom.amazonaws.services.s3.enableV4=true'). \\\n",
    " set('spark.driver.extraJavaOptions','-Dcom.amazonaws.services.s3.enableV4=true'). \\\n",
    " setAppName('pyspark_aw_glue').setMaster('local[*]')\n",
    "\n",
    "sc=SparkContext(conf=conf)\n",
    "sc.setSystemProperty('com.amazonaws.services.s3.enableV4', 'true')\n",
    "\n",
    "# read aws credentials\n",
    "import configparser\n",
    "config = configparser.ConfigParser()\n",
    "config.read_file(open(r'C:\\Users\\padma\\.aws\\credentials'))\n",
    "\n",
    "accessKeyId= config['default']['AWS_ACCESS_KEY_ID']\n",
    "secretAccessKey= config['default']['AWS_SECRET_ACCESS_KEY']\n",
    "\n",
    "hadoopConf = sc._jsc.hadoopConfiguration()\n",
    "hadoopConf.set('fs.s3a.access.key', accessKeyId)\n",
    "hadoopConf.set('fs.s3a.secret.key', secretAccessKey)\n",
    "hadoopConf.set('fs.s3a.endpoint', 's3.amazonaws.com')\n",
    "hadoopConf.set('fs.s3a.impl', 'org.apache.hadoop.fs.s3a.S3AFileSystem')\n",
    "\n",
    "print(sc)\n",
    "from pyspark.sql import SparkSession\n",
    "spark=SparkSession(sc)"
   ]
  },
  {
   "cell_type": "markdown",
   "id": "c62ea7ff",
   "metadata": {},
   "source": [
    "### Create glue catalog via boto3\n",
    "https://stackoverflow.com/questions/58329935/how-to-create-a-data-catalog-in-amazon-glue-externally]\n",
    "\n",
    "#### Create sample_db database"
   ]
  },
  {
   "cell_type": "code",
   "execution_count": 6,
   "id": "d0809656",
   "metadata": {},
   "outputs": [
    {
     "name": "stdout",
     "output_type": "stream",
     "text": [
      "{'ResponseMetadata': {'HTTPHeaders': {'connection': 'keep-alive',\n",
      "                                      'content-length': '2',\n",
      "                                      'content-type': 'application/x-amz-json-1.1',\n",
      "                                      'date': 'Thu, 24 Jun 2021 04:14:23 GMT',\n",
      "                                      'x-amzn-requestid': '2056f63b-0c81-4053-b863-199f5b821862'},\n",
      "                      'HTTPStatusCode': 200,\n",
      "                      'RequestId': '2056f63b-0c81-4053-b863-199f5b821862',\n",
      "                      'RetryAttempts': 0}}\n"
     ]
    }
   ],
   "source": [
    "from pprint import pprint\n",
    "import boto3\n",
    "\n",
    "# note could have used awswrangler library\n",
    "\n",
    "client = boto3.client('glue')\n",
    "response = client.create_database(\n",
    "    DatabaseInput={\n",
    "        'Name': 'sample_db',  # Required\n",
    "        'Description': 'Database created with boto3 API',\n",
    "        'Parameters': {\n",
    "            'my_param_1': 'my_param_value_1'\n",
    "        },\n",
    "    }\n",
    ")\n",
    "pprint(response)\n"
   ]
  },
  {
   "cell_type": "markdown",
   "id": "26496914",
   "metadata": {},
   "source": [
    "#### Delete sample_db database in glue catalog"
   ]
  },
  {
   "cell_type": "code",
   "execution_count": null,
   "id": "a6937389",
   "metadata": {},
   "outputs": [],
   "source": [
    "from pprint import pprint\n",
    "import boto3\n",
    "\n",
    "#client = boto3.client('glue')\n",
    "#response = client.delete_database(\n",
    "#    #CatalogId='string',\n",
    "#    Name='sample_db'\n",
    "#)\n",
    "pprint(response)"
   ]
  },
  {
   "cell_type": "markdown",
   "id": "c61ca9a6",
   "metadata": {},
   "source": [
    "#### Reload the aws_glue package wiithout restarting the kernel"
   ]
  },
  {
   "cell_type": "code",
   "execution_count": 3,
   "id": "5918ccee",
   "metadata": {},
   "outputs": [
    {
     "data": {
      "text/plain": [
       "<module 'glue_helper.aws_glue' from 'C:\\\\Users\\\\padma\\\\github\\\\sparksql-awsglue\\\\aws-glue\\\\glue_helper\\\\aws_glue.py'>"
      ]
     },
     "execution_count": 3,
     "metadata": {},
     "output_type": "execute_result"
    }
   ],
   "source": [
    "import importlib\n",
    "from glue_helper import aws_glue\n",
    "importlib.reload(aws_glue)"
   ]
  },
  {
   "cell_type": "code",
   "execution_count": 4,
   "id": "d7e4197d",
   "metadata": {},
   "outputs": [],
   "source": [
    "from glue_helper import aws_glue"
   ]
  },
  {
   "cell_type": "code",
   "execution_count": null,
   "id": "0b8873da",
   "metadata": {},
   "outputs": [],
   "source": [
    "# aws_glue.create_table_helper()"
   ]
  },
  {
   "cell_type": "code",
   "execution_count": null,
   "id": "3761d215",
   "metadata": {},
   "outputs": [],
   "source": [
    "# run this evety time you create the table or add a partition, \n",
    "#spark.sql('MSCK REPAIR TABLE sample_db.airlines')"
   ]
  },
  {
   "cell_type": "code",
   "execution_count": 9,
   "id": "11d2d70b",
   "metadata": {},
   "outputs": [],
   "source": [
    "aws_glue.get_current_schema_partition('sample_db')"
   ]
  },
  {
   "cell_type": "code",
   "execution_count": null,
   "id": "b45b4103",
   "metadata": {},
   "outputs": [],
   "source": [
    "# tried to fix table creates via aws_glue.create_table_helper(), but did not work\n",
    "#response = aws_glue.apply_msck_repair('sample_db', 'airlines')\n",
    "#print(response)"
   ]
  },
  {
   "cell_type": "markdown",
   "id": "c268eedd",
   "metadata": {},
   "source": [
    "#### Creating a small data set and doing some experiments with dataframe"
   ]
  },
  {
   "cell_type": "code",
   "execution_count": 5,
   "id": "f82764b4",
   "metadata": {},
   "outputs": [
    {
     "name": "stdout",
     "output_type": "stream",
     "text": [
      "+--------+-------------+------+-----------+---------+---------------+-------+-------------+--------+--------+--------+\n",
      "|airlines|flight_number|origin|destination|departure|departure_delay|arrival|arrival_delay|air_time|distance|    date|\n",
      "+--------+-------------+------+-----------+---------+---------------+-------+-------------+--------+--------+--------+\n",
      "|   19690|            1|   LAX|        HNL|     0834|          -6.00|   1204|        44.00|  360.00| 2556.00|20140401|\n",
      "|   19690|            2|   HNL|        LAX|     1342|          -3.00|   2151|       -19.00|  279.00| 2556.00|20140401|\n",
      "|   19690|            3|   LAX|        HNL|     0952|          -8.00|   1251|        21.00|  339.00| 2556.00|20140401|\n",
      "|   19690|            4|   HNL|        LAX|     2215|           0.00|   0615|       -20.00|  273.00| 2556.00|20140401|\n",
      "|   19690|            7|   LAS|        HNL|     0848|         -12.00|   1219|         4.00|  376.00| 2762.00|20140401|\n",
      "|   19690|            8|   HNL|        LAS|     2226|          -9.00|   0646|       -29.00|  296.00| 2762.00|20140401|\n",
      "|   19690|           17|   LAS|        HNL|     0147|          -8.00|   0515|        15.00|  377.00| 2762.00|20140401|\n",
      "|   19690|           18|   HNL|        LAS|     1503|          -2.00|   2327|       -23.00|  299.00| 2762.00|20140401|\n",
      "|   19690|           19|   SMF|        HNL|     0904|         -11.00|   1205|        15.00|  346.00| 2462.00|20140401|\n",
      "|   19690|           20|   HNL|        SMF|     1415|          15.00|   2225|        10.00|  276.00| 2462.00|20140401|\n",
      "+--------+-------------+------+-----------+---------+---------------+-------+-------------+--------+--------+--------+\n",
      "\n"
     ]
    }
   ],
   "source": [
    "flightsPath = \"datasets/flights.csv\"\n",
    "flights = spark.read\\\n",
    "                .format(\"csv\")\\\n",
    "                .option(\"header\", \"true\")\\\n",
    "                .load(flightsPath)\n",
    "\n",
    "import pyspark.sql.functions as F\n",
    "flights= flights.withColumn(\"date1\", F.expr(\"replace(date, '-', '')\"))\n",
    "\n",
    "from pyspark.sql.types import IntegerType\n",
    "flights = flights.withColumn(\"date1\",flights[\"date1\"].cast(IntegerType()))\n",
    "flights.select(\"date1\").dtypes\n",
    "\n",
    "flights_19690_20304 = flights.filter(flights['airlines'].isin([\"19690\", \"20304\"])) \n",
    "flights_19690_20304 = flights_19690_20304.filter(flights_19690_20304['date1'].isin([\"20140401\", \"20140402\"]))\n",
    "flights_19690_20304 = flights_19690_20304.drop(\"date\")\n",
    "flights_19690_20304 = flights_19690_20304.withColumnRenamed(\"date1\",\"date\") \n",
    "#flights_19690_20304.count()\n",
    "#flights_19690_20304.show()\n",
    "flights_sml = flights_19690_20304.limit(10)\n",
    "# small data set\n",
    "flights_sml.show()"
   ]
  },
  {
   "cell_type": "markdown",
   "id": "42a70bb8",
   "metadata": {},
   "source": [
    "#### Version and location of python exe  and othes used in this jupyter notebook"
   ]
  },
  {
   "cell_type": "code",
   "execution_count": 11,
   "id": "d102c188",
   "metadata": {},
   "outputs": [
    {
     "name": "stdout",
     "output_type": "stream",
     "text": [
      "3.8.8\n",
      "c:\\users\\padma\\appdata\\local\\programs\\python\\python38\\python.exe\n",
      "3.8.8 (tags/v3.8.8:024d805, Feb 19 2021, 13:18:16) [MSC v.1928 64 bit (AMD64)]\n",
      "sys.version_info(major=3, minor=8, micro=8, releaselevel='final', serial=0)\n"
     ]
    }
   ],
   "source": [
    "from platform import python_version\n",
    "print(python_version())\n",
    "\n",
    "#####################\n",
    "import sys\n",
    "print(sys.executable)\n",
    "print(sys.version)\n",
    "print(sys.version_info)\n",
    "\n",
    "# pyspark jar location i think is\n",
    "# C:\\Users\\padma\\spark\\spark-sql\\tools\\spark-3.1.2-bin-hadoop2.7\\jars\n"
   ]
  },
  {
   "cell_type": "markdown",
   "id": "80f3c1d7",
   "metadata": {},
   "source": [
    "#### Create parquet to file in local file system"
   ]
  },
  {
   "cell_type": "code",
   "execution_count": null,
   "id": "7cd2c2fb",
   "metadata": {},
   "outputs": [],
   "source": [
    "flights_sml.count()\n",
    "flights_sml.write.mode(\"overwrite\").partitionBy('airlines', 'date', 'flight_number').parquet(\"output/flights\")"
   ]
  },
  {
   "cell_type": "markdown",
   "id": "fbee8cc6",
   "metadata": {},
   "source": [
    "#### Create parquet with partitons file in S3 Bucket"
   ]
  },
  {
   "cell_type": "code",
   "execution_count": 9,
   "id": "283a8b94",
   "metadata": {},
   "outputs": [],
   "source": [
    "# writing parquet file to S3, without partitions\n",
    "flights_sml.write.mode(\"overwrite\").parquet(\"s3a://pp-database/tables/flights\")"
   ]
  },
  {
   "cell_type": "code",
   "execution_count": 36,
   "id": "a1a4c96a",
   "metadata": {
    "scrolled": true
   },
   "outputs": [],
   "source": [
    "#writing parquet file to s3 with partitions\n",
    "aws_glue.write_parquet_to_s3(flights_sml, 's3a://pp-database/tables/flights',\n",
    "                            ['airlines', 'date', 'flight_number'])\n",
    "\n",
    "# The table metadata does get created, but does not look correct when i see\n",
    "# via the glue metadata via the  aws console, needs to be fixed.\n",
    "# for now using the awswrangler api\n",
    "\n",
    "# create table in glue catalog\n",
    "# columns_types= {'origin': 'string', 'destination': 'string', \\\n",
    "#                 'departure': 'string', 'departure_delay': 'string',\\\n",
    "#                 'arrival': 'string', 'arrival_delay': 'string',\\\n",
    "#                 'air_time': 'string', 'distance': 'string' }\n",
    "\n",
    "# partitions_types = { 'airlines': 'string',\\\n",
    "#                     'date': 'int',\\\n",
    "#                     'flight_number': 'string' }\n",
    "\n",
    "# aws_glue.create_glue_table('sample_db', 'flights', 's3://pp-database/tables/flights', columns_types, partitions_types)\n"
   ]
  },
  {
   "cell_type": "markdown",
   "id": "0c9fba69",
   "metadata": {},
   "source": [
    "#### Read back the recently created parquet file from S3"
   ]
  },
  {
   "cell_type": "code",
   "execution_count": 3,
   "id": "2766a6f4",
   "metadata": {},
   "outputs": [
    {
     "name": "stdout",
     "output_type": "stream",
     "text": [
      "+------+-----------+---------+---------------+-------+-------------+--------+--------+--------+--------+-------------+\n",
      "|origin|destination|departure|departure_delay|arrival|arrival_delay|air_time|distance|airlines|    date|flight_number|\n",
      "+------+-----------+---------+---------------+-------+-------------+--------+--------+--------+--------+-------------+\n",
      "|   HNL|        LAS|     2226|          -9.00|   0646|       -29.00|  296.00| 2762.00|   19690|20140401|            8|\n",
      "|   HNL|        LAS|     1503|          -2.00|   2327|       -23.00|  299.00| 2762.00|   19690|20140401|           18|\n",
      "|   HNL|        LAX|     1342|          -3.00|   2151|       -19.00|  279.00| 2556.00|   19690|20140401|            2|\n",
      "|   SMF|        HNL|     0904|         -11.00|   1205|        15.00|  346.00| 2462.00|   19690|20140401|           19|\n",
      "|   HNL|        SMF|     1415|          15.00|   2225|        10.00|  276.00| 2462.00|   19690|20140401|           20|\n",
      "+------+-----------+---------+---------------+-------+-------------+--------+--------+--------+--------+-------------+\n",
      "only showing top 5 rows\n",
      "\n",
      "+------+-----------+---------+---------------+-------+-------------+--------+--------+--------+-------------+\n",
      "|origin|destination|departure|departure_delay|arrival|arrival_delay|air_time|distance|    date|flight_number|\n",
      "+------+-----------+---------+---------------+-------+-------------+--------+--------+--------+-------------+\n",
      "|   HNL|        LAS|     2226|          -9.00|   0646|       -29.00|  296.00| 2762.00|20140401|            8|\n",
      "|   HNL|        LAS|     1503|          -2.00|   2327|       -23.00|  299.00| 2762.00|20140401|           18|\n",
      "|   HNL|        LAX|     1342|          -3.00|   2151|       -19.00|  279.00| 2556.00|20140401|            2|\n",
      "|   SMF|        HNL|     0904|         -11.00|   1205|        15.00|  346.00| 2462.00|20140401|           19|\n",
      "|   HNL|        SMF|     1415|          15.00|   2225|        10.00|  276.00| 2462.00|20140401|           20|\n",
      "+------+-----------+---------+---------------+-------+-------------+--------+--------+--------+-------------+\n",
      "only showing top 5 rows\n",
      "\n"
     ]
    }
   ],
   "source": [
    "flights_read_from_s3=spark.read.parquet('s3a://pp-database/tables/flights',header=True,inferSchema=True)\n",
    "flights_read_from_s3.show(5)\n",
    "\n",
    "flights_read_from_s3_filter_by_airline=spark.read.parquet('s3a://pp-database/tables/flights/airlines=19690',header=True,inferSchema=True)\n",
    "flights_read_from_s3_filter_by_airline.show(5)\n"
   ]
  },
  {
   "cell_type": "markdown",
   "id": "458f24bd",
   "metadata": {},
   "source": [
    "#### Using awswranger - to read write to s3, update glue catalog with the table and  partitions  details, and read back using athena/sql\n",
    "*Note*: dataset (bool) – If True store a parquet dataset instead of a ordinary file(s) If True, enable all follow arguments: partition_cols, mode, database, table, description, parameters, columns_comments, concurrent_partitioning, catalog_versioning, projection_enabled, projection_types, projection_ranges, projection_values, projection_intervals, projection_digits, catalog_id, schema_evolution.\n",
    "\n",
    "ref: https://aws-data-wrangler.readthedocs.io/en/stable/"
   ]
  },
  {
   "cell_type": "code",
   "execution_count": 12,
   "id": "26be9e99",
   "metadata": {},
   "outputs": [
    {
     "data": {
      "text/plain": [
       "{'paths': ['s3://pp-database/tables/flights_1/a424a302a747437db993c09a37b3fefa.snappy.parquet'],\n",
       " 'partitions_values': {}}"
      ]
     },
     "execution_count": 12,
     "metadata": {},
     "output_type": "execute_result"
    }
   ],
   "source": [
    "# small data set\n",
    "# flights_sml.show()\n",
    "flights_sml_pandas = flights_sml.toPandas()\n",
    "\n",
    "import awswrangler as wr\n",
    "import pandas as pd\n",
    "\n",
    "# Storing data on to a Data Lake, no partitions created as none defined\n",
    "wr.s3.to_parquet(\n",
    "    df=flights_sml_pandas,\n",
    "    path=\"s3://pp-database/tables/flights_1\",\n",
    "    dataset=True,\n",
    "    database=\"sample_db\",\n",
    "    table=\"flight_1\"\n",
    ")"
   ]
  },
  {
   "cell_type": "code",
   "execution_count": 13,
   "id": "e64675fe",
   "metadata": {},
   "outputs": [
    {
     "data": {
      "text/plain": [
       "{'paths': ['s3://pp-database/tables/flights/date=20140401/airlines=19690/flight_number=1/fb8604fee67548e781024e726270d422.snappy.parquet',\n",
       "  's3://pp-database/tables/flights/date=20140401/airlines=19690/flight_number=17/fb8604fee67548e781024e726270d422.snappy.parquet',\n",
       "  's3://pp-database/tables/flights/date=20140401/airlines=19690/flight_number=18/fb8604fee67548e781024e726270d422.snappy.parquet',\n",
       "  's3://pp-database/tables/flights/date=20140401/airlines=19690/flight_number=19/fb8604fee67548e781024e726270d422.snappy.parquet',\n",
       "  's3://pp-database/tables/flights/date=20140401/airlines=19690/flight_number=2/fb8604fee67548e781024e726270d422.snappy.parquet',\n",
       "  's3://pp-database/tables/flights/date=20140401/airlines=19690/flight_number=20/fb8604fee67548e781024e726270d422.snappy.parquet',\n",
       "  's3://pp-database/tables/flights/date=20140401/airlines=19690/flight_number=3/fb8604fee67548e781024e726270d422.snappy.parquet',\n",
       "  's3://pp-database/tables/flights/date=20140401/airlines=19690/flight_number=4/fb8604fee67548e781024e726270d422.snappy.parquet',\n",
       "  's3://pp-database/tables/flights/date=20140401/airlines=19690/flight_number=7/fb8604fee67548e781024e726270d422.snappy.parquet',\n",
       "  's3://pp-database/tables/flights/date=20140401/airlines=19690/flight_number=8/fb8604fee67548e781024e726270d422.snappy.parquet'],\n",
       " 'partitions_values': {'s3://pp-database/tables/flights/date=20140401/airlines=19690/flight_number=1/': ['20140401',\n",
       "   '19690',\n",
       "   '1'],\n",
       "  's3://pp-database/tables/flights/date=20140401/airlines=19690/flight_number=17/': ['20140401',\n",
       "   '19690',\n",
       "   '17'],\n",
       "  's3://pp-database/tables/flights/date=20140401/airlines=19690/flight_number=18/': ['20140401',\n",
       "   '19690',\n",
       "   '18'],\n",
       "  's3://pp-database/tables/flights/date=20140401/airlines=19690/flight_number=19/': ['20140401',\n",
       "   '19690',\n",
       "   '19'],\n",
       "  's3://pp-database/tables/flights/date=20140401/airlines=19690/flight_number=2/': ['20140401',\n",
       "   '19690',\n",
       "   '2'],\n",
       "  's3://pp-database/tables/flights/date=20140401/airlines=19690/flight_number=20/': ['20140401',\n",
       "   '19690',\n",
       "   '20'],\n",
       "  's3://pp-database/tables/flights/date=20140401/airlines=19690/flight_number=3/': ['20140401',\n",
       "   '19690',\n",
       "   '3'],\n",
       "  's3://pp-database/tables/flights/date=20140401/airlines=19690/flight_number=4/': ['20140401',\n",
       "   '19690',\n",
       "   '4'],\n",
       "  's3://pp-database/tables/flights/date=20140401/airlines=19690/flight_number=7/': ['20140401',\n",
       "   '19690',\n",
       "   '7'],\n",
       "  's3://pp-database/tables/flights/date=20140401/airlines=19690/flight_number=8/': ['20140401',\n",
       "   '19690',\n",
       "   '8']}}"
      ]
     },
     "execution_count": 13,
     "metadata": {},
     "output_type": "execute_result"
    }
   ],
   "source": [
    "# following updates the glue catalog - with the flights table and the partitions \n",
    "# ! https://aws-data-wrangler.readthedocs.io/en/stable/index.html\n",
    "# following udpates the Glue catalog - creates table flights and its partition columns,\n",
    "# dataset should be set to True for this to happen.\n",
    "\n",
    "partition_cols = { 'airlines',\\\n",
    "                    'date',\\\n",
    "                    'flight_number' }\n",
    "wr.s3.to_parquet(\n",
    "    df=flights_sml_pandas,\n",
    "    path='s3://pp-database/tables/flights',\n",
    "    dataset=True,\n",
    "    mode='overwrite',\n",
    "    partition_cols=partition_cols,\n",
    "    database=\"sample_db\",\n",
    "    table=\"flights\"    \n",
    "    )\n",
    "    "
   ]
  },
  {
   "cell_type": "code",
   "execution_count": 7,
   "id": "de663563",
   "metadata": {},
   "outputs": [
    {
     "name": "stdout",
     "output_type": "stream",
     "text": [
      "serverless-admin\n",
      "arn:aws:iam::687162148361:user/serverless-admin\n"
     ]
    }
   ],
   "source": [
    "import awswrangler as wr\n",
    "name = wr.sts.get_current_identity_name()\n",
    "arn = wr.sts.get_current_identity_arn()\n",
    "print(name)\n",
    "print(arn)"
   ]
  },
  {
   "cell_type": "code",
   "execution_count": 10,
   "id": "c43785a0",
   "metadata": {},
   "outputs": [
    {
     "data": {
      "text/html": [
       "<style  type=\"text/css\" >\n",
       "</style><table id=\"T_c15bf_\" ><thead>    <tr>        <th class=\"blank level0\" ></th>        <th class=\"col_heading level0 col0\" >origin</th>        <th class=\"col_heading level0 col1\" >destination</th>        <th class=\"col_heading level0 col2\" >departure_delay</th>        <th class=\"col_heading level0 col3\" >arrival</th>        <th class=\"col_heading level0 col4\" >arrival_delay</th>        <th class=\"col_heading level0 col5\" >air_time</th>        <th class=\"col_heading level0 col6\" >distance</th>        <th class=\"col_heading level0 col7\" >date</th>        <th class=\"col_heading level0 col8\" >airlines</th>        <th class=\"col_heading level0 col9\" >flight_number</th>    </tr></thead><tbody>\n",
       "                <tr>\n",
       "                        <th id=\"T_c15bf_level0_row0\" class=\"row_heading level0 row0\" >0</th>\n",
       "                        <td id=\"T_c15bf_row0_col0\" class=\"data row0 col0\" >LAX</td>\n",
       "                        <td id=\"T_c15bf_row0_col1\" class=\"data row0 col1\" >HNL</td>\n",
       "                        <td id=\"T_c15bf_row0_col2\" class=\"data row0 col2\" >-6.00</td>\n",
       "                        <td id=\"T_c15bf_row0_col3\" class=\"data row0 col3\" >1204</td>\n",
       "                        <td id=\"T_c15bf_row0_col4\" class=\"data row0 col4\" >44.00</td>\n",
       "                        <td id=\"T_c15bf_row0_col5\" class=\"data row0 col5\" >360.00</td>\n",
       "                        <td id=\"T_c15bf_row0_col6\" class=\"data row0 col6\" >2556.00</td>\n",
       "                        <td id=\"T_c15bf_row0_col7\" class=\"data row0 col7\" >20140401</td>\n",
       "                        <td id=\"T_c15bf_row0_col8\" class=\"data row0 col8\" >19690</td>\n",
       "                        <td id=\"T_c15bf_row0_col9\" class=\"data row0 col9\" >1</td>\n",
       "            </tr>\n",
       "            <tr>\n",
       "                        <th id=\"T_c15bf_level0_row1\" class=\"row_heading level0 row1\" >1</th>\n",
       "                        <td id=\"T_c15bf_row1_col0\" class=\"data row1 col0\" >LAS</td>\n",
       "                        <td id=\"T_c15bf_row1_col1\" class=\"data row1 col1\" >HNL</td>\n",
       "                        <td id=\"T_c15bf_row1_col2\" class=\"data row1 col2\" >-8.00</td>\n",
       "                        <td id=\"T_c15bf_row1_col3\" class=\"data row1 col3\" >0515</td>\n",
       "                        <td id=\"T_c15bf_row1_col4\" class=\"data row1 col4\" >15.00</td>\n",
       "                        <td id=\"T_c15bf_row1_col5\" class=\"data row1 col5\" >377.00</td>\n",
       "                        <td id=\"T_c15bf_row1_col6\" class=\"data row1 col6\" >2762.00</td>\n",
       "                        <td id=\"T_c15bf_row1_col7\" class=\"data row1 col7\" >20140401</td>\n",
       "                        <td id=\"T_c15bf_row1_col8\" class=\"data row1 col8\" >19690</td>\n",
       "                        <td id=\"T_c15bf_row1_col9\" class=\"data row1 col9\" >17</td>\n",
       "            </tr>\n",
       "            <tr>\n",
       "                        <th id=\"T_c15bf_level0_row2\" class=\"row_heading level0 row2\" >2</th>\n",
       "                        <td id=\"T_c15bf_row2_col0\" class=\"data row2 col0\" >HNL</td>\n",
       "                        <td id=\"T_c15bf_row2_col1\" class=\"data row2 col1\" >LAX</td>\n",
       "                        <td id=\"T_c15bf_row2_col2\" class=\"data row2 col2\" >0.00</td>\n",
       "                        <td id=\"T_c15bf_row2_col3\" class=\"data row2 col3\" >0615</td>\n",
       "                        <td id=\"T_c15bf_row2_col4\" class=\"data row2 col4\" >-20.00</td>\n",
       "                        <td id=\"T_c15bf_row2_col5\" class=\"data row2 col5\" >273.00</td>\n",
       "                        <td id=\"T_c15bf_row2_col6\" class=\"data row2 col6\" >2556.00</td>\n",
       "                        <td id=\"T_c15bf_row2_col7\" class=\"data row2 col7\" >20140401</td>\n",
       "                        <td id=\"T_c15bf_row2_col8\" class=\"data row2 col8\" >19690</td>\n",
       "                        <td id=\"T_c15bf_row2_col9\" class=\"data row2 col9\" >4</td>\n",
       "            </tr>\n",
       "            <tr>\n",
       "                        <th id=\"T_c15bf_level0_row3\" class=\"row_heading level0 row3\" >3</th>\n",
       "                        <td id=\"T_c15bf_row3_col0\" class=\"data row3 col0\" >LAX</td>\n",
       "                        <td id=\"T_c15bf_row3_col1\" class=\"data row3 col1\" >HNL</td>\n",
       "                        <td id=\"T_c15bf_row3_col2\" class=\"data row3 col2\" >-8.00</td>\n",
       "                        <td id=\"T_c15bf_row3_col3\" class=\"data row3 col3\" >1251</td>\n",
       "                        <td id=\"T_c15bf_row3_col4\" class=\"data row3 col4\" >21.00</td>\n",
       "                        <td id=\"T_c15bf_row3_col5\" class=\"data row3 col5\" >339.00</td>\n",
       "                        <td id=\"T_c15bf_row3_col6\" class=\"data row3 col6\" >2556.00</td>\n",
       "                        <td id=\"T_c15bf_row3_col7\" class=\"data row3 col7\" >20140401</td>\n",
       "                        <td id=\"T_c15bf_row3_col8\" class=\"data row3 col8\" >19690</td>\n",
       "                        <td id=\"T_c15bf_row3_col9\" class=\"data row3 col9\" >3</td>\n",
       "            </tr>\n",
       "            <tr>\n",
       "                        <th id=\"T_c15bf_level0_row4\" class=\"row_heading level0 row4\" >4</th>\n",
       "                        <td id=\"T_c15bf_row4_col0\" class=\"data row4 col0\" >HNL</td>\n",
       "                        <td id=\"T_c15bf_row4_col1\" class=\"data row4 col1\" >LAX</td>\n",
       "                        <td id=\"T_c15bf_row4_col2\" class=\"data row4 col2\" >-3.00</td>\n",
       "                        <td id=\"T_c15bf_row4_col3\" class=\"data row4 col3\" >2151</td>\n",
       "                        <td id=\"T_c15bf_row4_col4\" class=\"data row4 col4\" >-19.00</td>\n",
       "                        <td id=\"T_c15bf_row4_col5\" class=\"data row4 col5\" >279.00</td>\n",
       "                        <td id=\"T_c15bf_row4_col6\" class=\"data row4 col6\" >2556.00</td>\n",
       "                        <td id=\"T_c15bf_row4_col7\" class=\"data row4 col7\" >20140401</td>\n",
       "                        <td id=\"T_c15bf_row4_col8\" class=\"data row4 col8\" >19690</td>\n",
       "                        <td id=\"T_c15bf_row4_col9\" class=\"data row4 col9\" >2</td>\n",
       "            </tr>\n",
       "            <tr>\n",
       "                        <th id=\"T_c15bf_level0_row5\" class=\"row_heading level0 row5\" >5</th>\n",
       "                        <td id=\"T_c15bf_row5_col0\" class=\"data row5 col0\" >HNL</td>\n",
       "                        <td id=\"T_c15bf_row5_col1\" class=\"data row5 col1\" >LAS</td>\n",
       "                        <td id=\"T_c15bf_row5_col2\" class=\"data row5 col2\" >-2.00</td>\n",
       "                        <td id=\"T_c15bf_row5_col3\" class=\"data row5 col3\" >2327</td>\n",
       "                        <td id=\"T_c15bf_row5_col4\" class=\"data row5 col4\" >-23.00</td>\n",
       "                        <td id=\"T_c15bf_row5_col5\" class=\"data row5 col5\" >299.00</td>\n",
       "                        <td id=\"T_c15bf_row5_col6\" class=\"data row5 col6\" >2762.00</td>\n",
       "                        <td id=\"T_c15bf_row5_col7\" class=\"data row5 col7\" >20140401</td>\n",
       "                        <td id=\"T_c15bf_row5_col8\" class=\"data row5 col8\" >19690</td>\n",
       "                        <td id=\"T_c15bf_row5_col9\" class=\"data row5 col9\" >18</td>\n",
       "            </tr>\n",
       "            <tr>\n",
       "                        <th id=\"T_c15bf_level0_row6\" class=\"row_heading level0 row6\" >6</th>\n",
       "                        <td id=\"T_c15bf_row6_col0\" class=\"data row6 col0\" >HNL</td>\n",
       "                        <td id=\"T_c15bf_row6_col1\" class=\"data row6 col1\" >LAS</td>\n",
       "                        <td id=\"T_c15bf_row6_col2\" class=\"data row6 col2\" >-9.00</td>\n",
       "                        <td id=\"T_c15bf_row6_col3\" class=\"data row6 col3\" >0646</td>\n",
       "                        <td id=\"T_c15bf_row6_col4\" class=\"data row6 col4\" >-29.00</td>\n",
       "                        <td id=\"T_c15bf_row6_col5\" class=\"data row6 col5\" >296.00</td>\n",
       "                        <td id=\"T_c15bf_row6_col6\" class=\"data row6 col6\" >2762.00</td>\n",
       "                        <td id=\"T_c15bf_row6_col7\" class=\"data row6 col7\" >20140401</td>\n",
       "                        <td id=\"T_c15bf_row6_col8\" class=\"data row6 col8\" >19690</td>\n",
       "                        <td id=\"T_c15bf_row6_col9\" class=\"data row6 col9\" >8</td>\n",
       "            </tr>\n",
       "            <tr>\n",
       "                        <th id=\"T_c15bf_level0_row7\" class=\"row_heading level0 row7\" >7</th>\n",
       "                        <td id=\"T_c15bf_row7_col0\" class=\"data row7 col0\" >LAS</td>\n",
       "                        <td id=\"T_c15bf_row7_col1\" class=\"data row7 col1\" >HNL</td>\n",
       "                        <td id=\"T_c15bf_row7_col2\" class=\"data row7 col2\" >-12.00</td>\n",
       "                        <td id=\"T_c15bf_row7_col3\" class=\"data row7 col3\" >1219</td>\n",
       "                        <td id=\"T_c15bf_row7_col4\" class=\"data row7 col4\" >4.00</td>\n",
       "                        <td id=\"T_c15bf_row7_col5\" class=\"data row7 col5\" >376.00</td>\n",
       "                        <td id=\"T_c15bf_row7_col6\" class=\"data row7 col6\" >2762.00</td>\n",
       "                        <td id=\"T_c15bf_row7_col7\" class=\"data row7 col7\" >20140401</td>\n",
       "                        <td id=\"T_c15bf_row7_col8\" class=\"data row7 col8\" >19690</td>\n",
       "                        <td id=\"T_c15bf_row7_col9\" class=\"data row7 col9\" >7</td>\n",
       "            </tr>\n",
       "    </tbody></table>"
      ],
      "text/plain": [
       "<pandas.io.formats.style.Styler at 0x1f071781820>"
      ]
     },
     "execution_count": 10,
     "metadata": {},
     "output_type": "execute_result"
    }
   ],
   "source": [
    "# Read flights table using athena.\n",
    "# AWS Glue is a data catalog -manages the database and table metadata. \n",
    "\n",
    "# Retrieving the data from Amazon Athena, the sql call needs aws glue:DeleteTable  permission as \n",
    "# a temporary table will be created and then deleted immediately.\n",
    "\n",
    "# note read_sql_query api\n",
    "# https://aws-data-wrangler.readthedocs.io/en/stable/stubs/awswrangler.athena.read_sql_query.html\n",
    "# default ctas_approach=True\n",
    "df = wr.athena.read_sql_query(\"SELECT * FROM flights WHERE CAST(distance as decimal) > 2500.00 \",\n",
    "                              database=\"sample_db\",\n",
    "                              ctas_approach=True)\n",
    "\n",
    "type(df) # pandas dataframe\n",
    "df.style\n"
   ]
  },
  {
   "cell_type": "code",
   "execution_count": 11,
   "id": "cf6616bc",
   "metadata": {},
   "outputs": [],
   "source": [
    "# testing schema on read\n",
    "# drop column departure and arrival, testing schema on read, dropped from schema\n",
    "# these columns\n",
    "wr.catalog.delete_column(\n",
    "    database='sample_db',\n",
    "    table='flights',\n",
    "    column_name='arrival',\n",
    ")\n",
    "wr.catalog.delete_column(\n",
    "    database='sample_db',\n",
    "    table='flights',\n",
    "    column_name='departure',\n",
    ")"
   ]
  },
  {
   "cell_type": "code",
   "execution_count": 12,
   "id": "e513a37d",
   "metadata": {},
   "outputs": [
    {
     "data": {
      "text/html": [
       "<style  type=\"text/css\" >\n",
       "</style><table id=\"T_63c54_\" ><thead>    <tr>        <th class=\"blank level0\" ></th>        <th class=\"col_heading level0 col0\" >origin</th>        <th class=\"col_heading level0 col1\" >destination</th>        <th class=\"col_heading level0 col2\" >departure_delay</th>        <th class=\"col_heading level0 col3\" >arrival_delay</th>        <th class=\"col_heading level0 col4\" >air_time</th>        <th class=\"col_heading level0 col5\" >distance</th>        <th class=\"col_heading level0 col6\" >date</th>        <th class=\"col_heading level0 col7\" >airlines</th>        <th class=\"col_heading level0 col8\" >flight_number</th>    </tr></thead><tbody>\n",
       "                <tr>\n",
       "                        <th id=\"T_63c54_level0_row0\" class=\"row_heading level0 row0\" >0</th>\n",
       "                        <td id=\"T_63c54_row0_col0\" class=\"data row0 col0\" >LAX</td>\n",
       "                        <td id=\"T_63c54_row0_col1\" class=\"data row0 col1\" >HNL</td>\n",
       "                        <td id=\"T_63c54_row0_col2\" class=\"data row0 col2\" >-6.00</td>\n",
       "                        <td id=\"T_63c54_row0_col3\" class=\"data row0 col3\" >44.00</td>\n",
       "                        <td id=\"T_63c54_row0_col4\" class=\"data row0 col4\" >360.00</td>\n",
       "                        <td id=\"T_63c54_row0_col5\" class=\"data row0 col5\" >2556.00</td>\n",
       "                        <td id=\"T_63c54_row0_col6\" class=\"data row0 col6\" >20140401</td>\n",
       "                        <td id=\"T_63c54_row0_col7\" class=\"data row0 col7\" >19690</td>\n",
       "                        <td id=\"T_63c54_row0_col8\" class=\"data row0 col8\" >1</td>\n",
       "            </tr>\n",
       "            <tr>\n",
       "                        <th id=\"T_63c54_level0_row1\" class=\"row_heading level0 row1\" >1</th>\n",
       "                        <td id=\"T_63c54_row1_col0\" class=\"data row1 col0\" >LAS</td>\n",
       "                        <td id=\"T_63c54_row1_col1\" class=\"data row1 col1\" >HNL</td>\n",
       "                        <td id=\"T_63c54_row1_col2\" class=\"data row1 col2\" >-8.00</td>\n",
       "                        <td id=\"T_63c54_row1_col3\" class=\"data row1 col3\" >15.00</td>\n",
       "                        <td id=\"T_63c54_row1_col4\" class=\"data row1 col4\" >377.00</td>\n",
       "                        <td id=\"T_63c54_row1_col5\" class=\"data row1 col5\" >2762.00</td>\n",
       "                        <td id=\"T_63c54_row1_col6\" class=\"data row1 col6\" >20140401</td>\n",
       "                        <td id=\"T_63c54_row1_col7\" class=\"data row1 col7\" >19690</td>\n",
       "                        <td id=\"T_63c54_row1_col8\" class=\"data row1 col8\" >17</td>\n",
       "            </tr>\n",
       "            <tr>\n",
       "                        <th id=\"T_63c54_level0_row2\" class=\"row_heading level0 row2\" >2</th>\n",
       "                        <td id=\"T_63c54_row2_col0\" class=\"data row2 col0\" >HNL</td>\n",
       "                        <td id=\"T_63c54_row2_col1\" class=\"data row2 col1\" >LAS</td>\n",
       "                        <td id=\"T_63c54_row2_col2\" class=\"data row2 col2\" >-9.00</td>\n",
       "                        <td id=\"T_63c54_row2_col3\" class=\"data row2 col3\" >-29.00</td>\n",
       "                        <td id=\"T_63c54_row2_col4\" class=\"data row2 col4\" >296.00</td>\n",
       "                        <td id=\"T_63c54_row2_col5\" class=\"data row2 col5\" >2762.00</td>\n",
       "                        <td id=\"T_63c54_row2_col6\" class=\"data row2 col6\" >20140401</td>\n",
       "                        <td id=\"T_63c54_row2_col7\" class=\"data row2 col7\" >19690</td>\n",
       "                        <td id=\"T_63c54_row2_col8\" class=\"data row2 col8\" >8</td>\n",
       "            </tr>\n",
       "            <tr>\n",
       "                        <th id=\"T_63c54_level0_row3\" class=\"row_heading level0 row3\" >3</th>\n",
       "                        <td id=\"T_63c54_row3_col0\" class=\"data row3 col0\" >HNL</td>\n",
       "                        <td id=\"T_63c54_row3_col1\" class=\"data row3 col1\" >LAS</td>\n",
       "                        <td id=\"T_63c54_row3_col2\" class=\"data row3 col2\" >-2.00</td>\n",
       "                        <td id=\"T_63c54_row3_col3\" class=\"data row3 col3\" >-23.00</td>\n",
       "                        <td id=\"T_63c54_row3_col4\" class=\"data row3 col4\" >299.00</td>\n",
       "                        <td id=\"T_63c54_row3_col5\" class=\"data row3 col5\" >2762.00</td>\n",
       "                        <td id=\"T_63c54_row3_col6\" class=\"data row3 col6\" >20140401</td>\n",
       "                        <td id=\"T_63c54_row3_col7\" class=\"data row3 col7\" >19690</td>\n",
       "                        <td id=\"T_63c54_row3_col8\" class=\"data row3 col8\" >18</td>\n",
       "            </tr>\n",
       "            <tr>\n",
       "                        <th id=\"T_63c54_level0_row4\" class=\"row_heading level0 row4\" >4</th>\n",
       "                        <td id=\"T_63c54_row4_col0\" class=\"data row4 col0\" >LAS</td>\n",
       "                        <td id=\"T_63c54_row4_col1\" class=\"data row4 col1\" >HNL</td>\n",
       "                        <td id=\"T_63c54_row4_col2\" class=\"data row4 col2\" >-12.00</td>\n",
       "                        <td id=\"T_63c54_row4_col3\" class=\"data row4 col3\" >4.00</td>\n",
       "                        <td id=\"T_63c54_row4_col4\" class=\"data row4 col4\" >376.00</td>\n",
       "                        <td id=\"T_63c54_row4_col5\" class=\"data row4 col5\" >2762.00</td>\n",
       "                        <td id=\"T_63c54_row4_col6\" class=\"data row4 col6\" >20140401</td>\n",
       "                        <td id=\"T_63c54_row4_col7\" class=\"data row4 col7\" >19690</td>\n",
       "                        <td id=\"T_63c54_row4_col8\" class=\"data row4 col8\" >7</td>\n",
       "            </tr>\n",
       "            <tr>\n",
       "                        <th id=\"T_63c54_level0_row5\" class=\"row_heading level0 row5\" >5</th>\n",
       "                        <td id=\"T_63c54_row5_col0\" class=\"data row5 col0\" >LAX</td>\n",
       "                        <td id=\"T_63c54_row5_col1\" class=\"data row5 col1\" >HNL</td>\n",
       "                        <td id=\"T_63c54_row5_col2\" class=\"data row5 col2\" >-8.00</td>\n",
       "                        <td id=\"T_63c54_row5_col3\" class=\"data row5 col3\" >21.00</td>\n",
       "                        <td id=\"T_63c54_row5_col4\" class=\"data row5 col4\" >339.00</td>\n",
       "                        <td id=\"T_63c54_row5_col5\" class=\"data row5 col5\" >2556.00</td>\n",
       "                        <td id=\"T_63c54_row5_col6\" class=\"data row5 col6\" >20140401</td>\n",
       "                        <td id=\"T_63c54_row5_col7\" class=\"data row5 col7\" >19690</td>\n",
       "                        <td id=\"T_63c54_row5_col8\" class=\"data row5 col8\" >3</td>\n",
       "            </tr>\n",
       "            <tr>\n",
       "                        <th id=\"T_63c54_level0_row6\" class=\"row_heading level0 row6\" >6</th>\n",
       "                        <td id=\"T_63c54_row6_col0\" class=\"data row6 col0\" >HNL</td>\n",
       "                        <td id=\"T_63c54_row6_col1\" class=\"data row6 col1\" >LAX</td>\n",
       "                        <td id=\"T_63c54_row6_col2\" class=\"data row6 col2\" >-3.00</td>\n",
       "                        <td id=\"T_63c54_row6_col3\" class=\"data row6 col3\" >-19.00</td>\n",
       "                        <td id=\"T_63c54_row6_col4\" class=\"data row6 col4\" >279.00</td>\n",
       "                        <td id=\"T_63c54_row6_col5\" class=\"data row6 col5\" >2556.00</td>\n",
       "                        <td id=\"T_63c54_row6_col6\" class=\"data row6 col6\" >20140401</td>\n",
       "                        <td id=\"T_63c54_row6_col7\" class=\"data row6 col7\" >19690</td>\n",
       "                        <td id=\"T_63c54_row6_col8\" class=\"data row6 col8\" >2</td>\n",
       "            </tr>\n",
       "            <tr>\n",
       "                        <th id=\"T_63c54_level0_row7\" class=\"row_heading level0 row7\" >7</th>\n",
       "                        <td id=\"T_63c54_row7_col0\" class=\"data row7 col0\" >HNL</td>\n",
       "                        <td id=\"T_63c54_row7_col1\" class=\"data row7 col1\" >LAX</td>\n",
       "                        <td id=\"T_63c54_row7_col2\" class=\"data row7 col2\" >0.00</td>\n",
       "                        <td id=\"T_63c54_row7_col3\" class=\"data row7 col3\" >-20.00</td>\n",
       "                        <td id=\"T_63c54_row7_col4\" class=\"data row7 col4\" >273.00</td>\n",
       "                        <td id=\"T_63c54_row7_col5\" class=\"data row7 col5\" >2556.00</td>\n",
       "                        <td id=\"T_63c54_row7_col6\" class=\"data row7 col6\" >20140401</td>\n",
       "                        <td id=\"T_63c54_row7_col7\" class=\"data row7 col7\" >19690</td>\n",
       "                        <td id=\"T_63c54_row7_col8\" class=\"data row7 col8\" >4</td>\n",
       "            </tr>\n",
       "    </tbody></table>"
      ],
      "text/plain": [
       "<pandas.io.formats.style.Styler at 0x1f0715fe4c0>"
      ]
     },
     "execution_count": 12,
     "metadata": {},
     "output_type": "execute_result"
    }
   ],
   "source": [
    "# now reading back data after the columns - departure and arrival have been\n",
    "# deleted from  table/glue catalog, note these columns still exist in the s3 bucket\n",
    "df = wr.athena.read_sql_query(\"SELECT * FROM flights WHERE CAST(distance as decimal) > 2500.00 \",\n",
    "                              database=\"sample_db\",\n",
    "                              ctas_approach=True)\n",
    "df.style\n",
    "\n"
   ]
  },
  {
   "cell_type": "code",
   "execution_count": 15,
   "id": "0f529662",
   "metadata": {},
   "outputs": [
    {
     "data": {
      "text/html": [
       "<style  type=\"text/css\" >\n",
       "</style><table id=\"T_f7a69_\" ><thead>    <tr>        <th class=\"blank level0\" ></th>        <th class=\"col_heading level0 col0\" >origin</th>        <th class=\"col_heading level0 col1\" >destination</th>        <th class=\"col_heading level0 col2\" >departure</th>        <th class=\"col_heading level0 col3\" >departure_delay</th>        <th class=\"col_heading level0 col4\" >arrival</th>        <th class=\"col_heading level0 col5\" >arrival_delay</th>        <th class=\"col_heading level0 col6\" >air_time</th>        <th class=\"col_heading level0 col7\" >distance</th>        <th class=\"col_heading level0 col8\" >date</th>        <th class=\"col_heading level0 col9\" >airlines</th>        <th class=\"col_heading level0 col10\" >flight_number</th>    </tr></thead><tbody>\n",
       "                <tr>\n",
       "                        <th id=\"T_f7a69_level0_row0\" class=\"row_heading level0 row0\" >0</th>\n",
       "                        <td id=\"T_f7a69_row0_col0\" class=\"data row0 col0\" >LAX</td>\n",
       "                        <td id=\"T_f7a69_row0_col1\" class=\"data row0 col1\" >HNL</td>\n",
       "                        <td id=\"T_f7a69_row0_col2\" class=\"data row0 col2\" >0834</td>\n",
       "                        <td id=\"T_f7a69_row0_col3\" class=\"data row0 col3\" >-6.00</td>\n",
       "                        <td id=\"T_f7a69_row0_col4\" class=\"data row0 col4\" >1204</td>\n",
       "                        <td id=\"T_f7a69_row0_col5\" class=\"data row0 col5\" >44.00</td>\n",
       "                        <td id=\"T_f7a69_row0_col6\" class=\"data row0 col6\" >360.00</td>\n",
       "                        <td id=\"T_f7a69_row0_col7\" class=\"data row0 col7\" >2556.00</td>\n",
       "                        <td id=\"T_f7a69_row0_col8\" class=\"data row0 col8\" >20140401</td>\n",
       "                        <td id=\"T_f7a69_row0_col9\" class=\"data row0 col9\" >19690</td>\n",
       "                        <td id=\"T_f7a69_row0_col10\" class=\"data row0 col10\" >1</td>\n",
       "            </tr>\n",
       "            <tr>\n",
       "                        <th id=\"T_f7a69_level0_row1\" class=\"row_heading level0 row1\" >1</th>\n",
       "                        <td id=\"T_f7a69_row1_col0\" class=\"data row1 col0\" >LAS</td>\n",
       "                        <td id=\"T_f7a69_row1_col1\" class=\"data row1 col1\" >HNL</td>\n",
       "                        <td id=\"T_f7a69_row1_col2\" class=\"data row1 col2\" >0147</td>\n",
       "                        <td id=\"T_f7a69_row1_col3\" class=\"data row1 col3\" >-8.00</td>\n",
       "                        <td id=\"T_f7a69_row1_col4\" class=\"data row1 col4\" >0515</td>\n",
       "                        <td id=\"T_f7a69_row1_col5\" class=\"data row1 col5\" >15.00</td>\n",
       "                        <td id=\"T_f7a69_row1_col6\" class=\"data row1 col6\" >377.00</td>\n",
       "                        <td id=\"T_f7a69_row1_col7\" class=\"data row1 col7\" >2762.00</td>\n",
       "                        <td id=\"T_f7a69_row1_col8\" class=\"data row1 col8\" >20140401</td>\n",
       "                        <td id=\"T_f7a69_row1_col9\" class=\"data row1 col9\" >19690</td>\n",
       "                        <td id=\"T_f7a69_row1_col10\" class=\"data row1 col10\" >17</td>\n",
       "            </tr>\n",
       "            <tr>\n",
       "                        <th id=\"T_f7a69_level0_row2\" class=\"row_heading level0 row2\" >2</th>\n",
       "                        <td id=\"T_f7a69_row2_col0\" class=\"data row2 col0\" >HNL</td>\n",
       "                        <td id=\"T_f7a69_row2_col1\" class=\"data row2 col1\" >LAS</td>\n",
       "                        <td id=\"T_f7a69_row2_col2\" class=\"data row2 col2\" >1503</td>\n",
       "                        <td id=\"T_f7a69_row2_col3\" class=\"data row2 col3\" >-2.00</td>\n",
       "                        <td id=\"T_f7a69_row2_col4\" class=\"data row2 col4\" >2327</td>\n",
       "                        <td id=\"T_f7a69_row2_col5\" class=\"data row2 col5\" >-23.00</td>\n",
       "                        <td id=\"T_f7a69_row2_col6\" class=\"data row2 col6\" >299.00</td>\n",
       "                        <td id=\"T_f7a69_row2_col7\" class=\"data row2 col7\" >2762.00</td>\n",
       "                        <td id=\"T_f7a69_row2_col8\" class=\"data row2 col8\" >20140401</td>\n",
       "                        <td id=\"T_f7a69_row2_col9\" class=\"data row2 col9\" >19690</td>\n",
       "                        <td id=\"T_f7a69_row2_col10\" class=\"data row2 col10\" >18</td>\n",
       "            </tr>\n",
       "            <tr>\n",
       "                        <th id=\"T_f7a69_level0_row3\" class=\"row_heading level0 row3\" >3</th>\n",
       "                        <td id=\"T_f7a69_row3_col0\" class=\"data row3 col0\" >SMF</td>\n",
       "                        <td id=\"T_f7a69_row3_col1\" class=\"data row3 col1\" >HNL</td>\n",
       "                        <td id=\"T_f7a69_row3_col2\" class=\"data row3 col2\" >0904</td>\n",
       "                        <td id=\"T_f7a69_row3_col3\" class=\"data row3 col3\" >-11.00</td>\n",
       "                        <td id=\"T_f7a69_row3_col4\" class=\"data row3 col4\" >1205</td>\n",
       "                        <td id=\"T_f7a69_row3_col5\" class=\"data row3 col5\" >15.00</td>\n",
       "                        <td id=\"T_f7a69_row3_col6\" class=\"data row3 col6\" >346.00</td>\n",
       "                        <td id=\"T_f7a69_row3_col7\" class=\"data row3 col7\" >2462.00</td>\n",
       "                        <td id=\"T_f7a69_row3_col8\" class=\"data row3 col8\" >20140401</td>\n",
       "                        <td id=\"T_f7a69_row3_col9\" class=\"data row3 col9\" >19690</td>\n",
       "                        <td id=\"T_f7a69_row3_col10\" class=\"data row3 col10\" >19</td>\n",
       "            </tr>\n",
       "            <tr>\n",
       "                        <th id=\"T_f7a69_level0_row4\" class=\"row_heading level0 row4\" >4</th>\n",
       "                        <td id=\"T_f7a69_row4_col0\" class=\"data row4 col0\" >HNL</td>\n",
       "                        <td id=\"T_f7a69_row4_col1\" class=\"data row4 col1\" >LAX</td>\n",
       "                        <td id=\"T_f7a69_row4_col2\" class=\"data row4 col2\" >1342</td>\n",
       "                        <td id=\"T_f7a69_row4_col3\" class=\"data row4 col3\" >-3.00</td>\n",
       "                        <td id=\"T_f7a69_row4_col4\" class=\"data row4 col4\" >2151</td>\n",
       "                        <td id=\"T_f7a69_row4_col5\" class=\"data row4 col5\" >-19.00</td>\n",
       "                        <td id=\"T_f7a69_row4_col6\" class=\"data row4 col6\" >279.00</td>\n",
       "                        <td id=\"T_f7a69_row4_col7\" class=\"data row4 col7\" >2556.00</td>\n",
       "                        <td id=\"T_f7a69_row4_col8\" class=\"data row4 col8\" >20140401</td>\n",
       "                        <td id=\"T_f7a69_row4_col9\" class=\"data row4 col9\" >19690</td>\n",
       "                        <td id=\"T_f7a69_row4_col10\" class=\"data row4 col10\" >2</td>\n",
       "            </tr>\n",
       "            <tr>\n",
       "                        <th id=\"T_f7a69_level0_row5\" class=\"row_heading level0 row5\" >5</th>\n",
       "                        <td id=\"T_f7a69_row5_col0\" class=\"data row5 col0\" >HNL</td>\n",
       "                        <td id=\"T_f7a69_row5_col1\" class=\"data row5 col1\" >SMF</td>\n",
       "                        <td id=\"T_f7a69_row5_col2\" class=\"data row5 col2\" >1415</td>\n",
       "                        <td id=\"T_f7a69_row5_col3\" class=\"data row5 col3\" >15.00</td>\n",
       "                        <td id=\"T_f7a69_row5_col4\" class=\"data row5 col4\" >2225</td>\n",
       "                        <td id=\"T_f7a69_row5_col5\" class=\"data row5 col5\" >10.00</td>\n",
       "                        <td id=\"T_f7a69_row5_col6\" class=\"data row5 col6\" >276.00</td>\n",
       "                        <td id=\"T_f7a69_row5_col7\" class=\"data row5 col7\" >2462.00</td>\n",
       "                        <td id=\"T_f7a69_row5_col8\" class=\"data row5 col8\" >20140401</td>\n",
       "                        <td id=\"T_f7a69_row5_col9\" class=\"data row5 col9\" >19690</td>\n",
       "                        <td id=\"T_f7a69_row5_col10\" class=\"data row5 col10\" >20</td>\n",
       "            </tr>\n",
       "            <tr>\n",
       "                        <th id=\"T_f7a69_level0_row6\" class=\"row_heading level0 row6\" >6</th>\n",
       "                        <td id=\"T_f7a69_row6_col0\" class=\"data row6 col0\" >LAX</td>\n",
       "                        <td id=\"T_f7a69_row6_col1\" class=\"data row6 col1\" >HNL</td>\n",
       "                        <td id=\"T_f7a69_row6_col2\" class=\"data row6 col2\" >0952</td>\n",
       "                        <td id=\"T_f7a69_row6_col3\" class=\"data row6 col3\" >-8.00</td>\n",
       "                        <td id=\"T_f7a69_row6_col4\" class=\"data row6 col4\" >1251</td>\n",
       "                        <td id=\"T_f7a69_row6_col5\" class=\"data row6 col5\" >21.00</td>\n",
       "                        <td id=\"T_f7a69_row6_col6\" class=\"data row6 col6\" >339.00</td>\n",
       "                        <td id=\"T_f7a69_row6_col7\" class=\"data row6 col7\" >2556.00</td>\n",
       "                        <td id=\"T_f7a69_row6_col8\" class=\"data row6 col8\" >20140401</td>\n",
       "                        <td id=\"T_f7a69_row6_col9\" class=\"data row6 col9\" >19690</td>\n",
       "                        <td id=\"T_f7a69_row6_col10\" class=\"data row6 col10\" >3</td>\n",
       "            </tr>\n",
       "            <tr>\n",
       "                        <th id=\"T_f7a69_level0_row7\" class=\"row_heading level0 row7\" >7</th>\n",
       "                        <td id=\"T_f7a69_row7_col0\" class=\"data row7 col0\" >HNL</td>\n",
       "                        <td id=\"T_f7a69_row7_col1\" class=\"data row7 col1\" >LAX</td>\n",
       "                        <td id=\"T_f7a69_row7_col2\" class=\"data row7 col2\" >2215</td>\n",
       "                        <td id=\"T_f7a69_row7_col3\" class=\"data row7 col3\" >0.00</td>\n",
       "                        <td id=\"T_f7a69_row7_col4\" class=\"data row7 col4\" >0615</td>\n",
       "                        <td id=\"T_f7a69_row7_col5\" class=\"data row7 col5\" >-20.00</td>\n",
       "                        <td id=\"T_f7a69_row7_col6\" class=\"data row7 col6\" >273.00</td>\n",
       "                        <td id=\"T_f7a69_row7_col7\" class=\"data row7 col7\" >2556.00</td>\n",
       "                        <td id=\"T_f7a69_row7_col8\" class=\"data row7 col8\" >20140401</td>\n",
       "                        <td id=\"T_f7a69_row7_col9\" class=\"data row7 col9\" >19690</td>\n",
       "                        <td id=\"T_f7a69_row7_col10\" class=\"data row7 col10\" >4</td>\n",
       "            </tr>\n",
       "            <tr>\n",
       "                        <th id=\"T_f7a69_level0_row8\" class=\"row_heading level0 row8\" >8</th>\n",
       "                        <td id=\"T_f7a69_row8_col0\" class=\"data row8 col0\" >LAS</td>\n",
       "                        <td id=\"T_f7a69_row8_col1\" class=\"data row8 col1\" >HNL</td>\n",
       "                        <td id=\"T_f7a69_row8_col2\" class=\"data row8 col2\" >0848</td>\n",
       "                        <td id=\"T_f7a69_row8_col3\" class=\"data row8 col3\" >-12.00</td>\n",
       "                        <td id=\"T_f7a69_row8_col4\" class=\"data row8 col4\" >1219</td>\n",
       "                        <td id=\"T_f7a69_row8_col5\" class=\"data row8 col5\" >4.00</td>\n",
       "                        <td id=\"T_f7a69_row8_col6\" class=\"data row8 col6\" >376.00</td>\n",
       "                        <td id=\"T_f7a69_row8_col7\" class=\"data row8 col7\" >2762.00</td>\n",
       "                        <td id=\"T_f7a69_row8_col8\" class=\"data row8 col8\" >20140401</td>\n",
       "                        <td id=\"T_f7a69_row8_col9\" class=\"data row8 col9\" >19690</td>\n",
       "                        <td id=\"T_f7a69_row8_col10\" class=\"data row8 col10\" >7</td>\n",
       "            </tr>\n",
       "            <tr>\n",
       "                        <th id=\"T_f7a69_level0_row9\" class=\"row_heading level0 row9\" >9</th>\n",
       "                        <td id=\"T_f7a69_row9_col0\" class=\"data row9 col0\" >HNL</td>\n",
       "                        <td id=\"T_f7a69_row9_col1\" class=\"data row9 col1\" >LAS</td>\n",
       "                        <td id=\"T_f7a69_row9_col2\" class=\"data row9 col2\" >2226</td>\n",
       "                        <td id=\"T_f7a69_row9_col3\" class=\"data row9 col3\" >-9.00</td>\n",
       "                        <td id=\"T_f7a69_row9_col4\" class=\"data row9 col4\" >0646</td>\n",
       "                        <td id=\"T_f7a69_row9_col5\" class=\"data row9 col5\" >-29.00</td>\n",
       "                        <td id=\"T_f7a69_row9_col6\" class=\"data row9 col6\" >296.00</td>\n",
       "                        <td id=\"T_f7a69_row9_col7\" class=\"data row9 col7\" >2762.00</td>\n",
       "                        <td id=\"T_f7a69_row9_col8\" class=\"data row9 col8\" >20140401</td>\n",
       "                        <td id=\"T_f7a69_row9_col9\" class=\"data row9 col9\" >19690</td>\n",
       "                        <td id=\"T_f7a69_row9_col10\" class=\"data row9 col10\" >8</td>\n",
       "            </tr>\n",
       "    </tbody></table>"
      ],
      "text/plain": [
       "<pandas.io.formats.style.Styler at 0x1f072eae3d0>"
      ]
     },
     "execution_count": 15,
     "metadata": {},
     "output_type": "execute_result"
    }
   ],
   "source": [
    "# READ FROM s3\n",
    "# dataset=True, reads the partition columns as well\n",
    "# Note: the columns departure and arrival have been removed from the glue catalog/flights table\n",
    "# but the columns exists in s3\n",
    "import awswrangler as wr\n",
    "df = wr.s3.read_parquet(path='s3://pp-database/tables/flights/', dataset=True)\n",
    "type(df)\n",
    "df.style"
   ]
  },
  {
   "cell_type": "code",
   "execution_count": null,
   "id": "b4ed8a13",
   "metadata": {},
   "outputs": [],
   "source": []
  }
 ],
 "metadata": {
  "kernelspec": {
   "display_name": "Python 3",
   "language": "python",
   "name": "python3"
  },
  "language_info": {
   "codemirror_mode": {
    "name": "ipython",
    "version": 3
   },
   "file_extension": ".py",
   "mimetype": "text/x-python",
   "name": "python",
   "nbconvert_exporter": "python",
   "pygments_lexer": "ipython3",
   "version": "3.8.8"
  }
 },
 "nbformat": 4,
 "nbformat_minor": 5
}
