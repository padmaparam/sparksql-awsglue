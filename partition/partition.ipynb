{
 "cells": [
  {
   "cell_type": "code",
   "execution_count": 1,
   "id": "6174ef69",
   "metadata": {},
   "outputs": [],
   "source": [
    "# enable pyspark\n",
    "import findspark\n",
    "findspark.init()"
   ]
  },
  {
   "cell_type": "code",
   "execution_count": 2,
   "id": "34482889",
   "metadata": {},
   "outputs": [
    {
     "name": "stdout",
     "output_type": "stream",
     "text": [
      "<SparkContext master=local[8] appName=PySpark Partition>\n"
     ]
    }
   ],
   "source": [
    "'''\n",
    "Scripts instantiates a SparkSession locally with 8 worker threads.\n",
    "'''\n",
    "appName = \"PySpark Partition\"\n",
    "master = \"local[8]\"\n",
    "from pyspark import SparkContext, SparkConf\n",
    "# ref: https://towardsai.net/p/programming/pyspark-aws-s3-read-write-operations\n",
    "#spark configuration\n",
    "conf = SparkConf().set('spark.executor.extraJavaOptions','-Dcom.amazonaws.services.s3.enableV4=true'). \\\n",
    " set('spark.driver.extraJavaOptions','-Dcom.amazonaws.services.s3.enableV4=true'). \\\n",
    " setAppName(appName).setMaster(master)\n",
    "\n",
    "sc=SparkContext(conf=conf)\n",
    "sc.setSystemProperty('com.amazonaws.services.s3.enableV4', 'true')\n",
    "\n",
    "# read aws credentials\n",
    "import configparser\n",
    "config = configparser.ConfigParser()\n",
    "config.read_file(open(r'C:\\Users\\padma\\.aws\\credentials'))\n",
    "\n",
    "accessKeyId= config['default']['AWS_ACCESS_KEY_ID']\n",
    "secretAccessKey= config['default']['AWS_SECRET_ACCESS_KEY']\n",
    "\n",
    "hadoopConf = sc._jsc.hadoopConfiguration()\n",
    "hadoopConf.set('fs.s3a.access.key', accessKeyId)\n",
    "hadoopConf.set('fs.s3a.secret.key', secretAccessKey)\n",
    "hadoopConf.set('fs.s3a.endpoint', 's3.amazonaws.com')\n",
    "hadoopConf.set('fs.s3a.impl', 'org.apache.hadoop.fs.s3a.S3AFileSystem')\n",
    "\n",
    "print(sc)\n",
    "from pyspark.sql import SparkSession\n",
    "spark=SparkSession(sc)"
   ]
  },
  {
   "cell_type": "code",
   "execution_count": 3,
   "id": "02f91030",
   "metadata": {},
   "outputs": [
    {
     "name": "stdout",
     "output_type": "stream",
     "text": [
      "c:\\users\\padma\\appdata\\local\\programs\\python\\python38\\python.exe\n"
     ]
    }
   ],
   "source": [
    "import sys\n",
    "print(sys.executable)"
   ]
  },
  {
   "cell_type": "code",
   "execution_count": 4,
   "id": "229faf25",
   "metadata": {},
   "outputs": [
    {
     "name": "stdout",
     "output_type": "stream",
     "text": [
      "Parent process: psutil.Process(pid=9592, name='python.exe', status='running', started='22:00:09')\n",
      "Child pid is 20936\n",
      "Child pid is 25840\n",
      "Child pid is 24528\n",
      "3 child threads associated\n"
     ]
    }
   ],
   "source": [
    "import psutil\n",
    "\n",
    "current_process = psutil.Process()\n",
    "print(f'Parent process: {current_process}')\n",
    "children = current_process.children(recursive=True)\n",
    "count_child_threads = 0\n",
    "for child in children:\n",
    "    print('Child pid is {}'.format(child.pid))\n",
    "    count_child_threads +=1\n",
    "if count_child_threads == 0:\n",
    "    print('No child threads associated')\n",
    "else:\n",
    "    print(f'{count_child_threads} child threads associated')"
   ]
  },
  {
   "cell_type": "markdown",
   "id": "c803b5ab",
   "metadata": {},
   "source": [
    "## Data partitioning \n",
    "Data partitioning is critical to data processing performance especially for large volume of data processing in Spark. \n",
    "Partitions in Spark won’t span across nodes though one node can contains more than one partitions. When processing,\n",
    "Spark assigns one task for each partition and each worker threads can only process one task at a time. Thus, \n",
    "with too few partitions, the application won’t utilize all the cores available in the cluster and it can cause \n",
    "data skewing problem; with too many partitions, it will bring overhead for Spark to manage too many small tasks."
   ]
  },
  {
   "cell_type": "code",
   "execution_count": 5,
   "id": "8b739345",
   "metadata": {},
   "outputs": [
    {
     "name": "stdout",
     "output_type": "stream",
     "text": [
      "3.1.2\n",
      "+-------+----------+------+\n",
      "|Country|      Date|Amount|\n",
      "+-------+----------+------+\n",
      "|     CN|2019-01-01|    10|\n",
      "|     AU|2019-01-01|    10|\n",
      "|     CN|2019-01-02|    11|\n",
      "|     AU|2019-01-02|    11|\n",
      "|     CN|2019-01-03|    12|\n",
      "|     AU|2019-01-03|    12|\n",
      "|     CN|2019-01-04|    13|\n",
      "|     AU|2019-01-04|    13|\n",
      "|     CN|2019-01-05|    14|\n",
      "|     AU|2019-01-05|    14|\n",
      "|     CN|2019-01-06|    15|\n",
      "|     AU|2019-01-06|    15|\n",
      "|     CN|2019-01-07|    16|\n",
      "|     AU|2019-01-07|    16|\n",
      "|     CN|2019-01-08|    17|\n",
      "|     AU|2019-01-08|    17|\n",
      "|     CN|2019-01-09|    18|\n",
      "|     AU|2019-01-09|    18|\n",
      "|     CN|2019-01-10|    19|\n",
      "|     AU|2019-01-10|    19|\n",
      "+-------+----------+------+\n",
      "only showing top 20 rows\n",
      "\n",
      "8\n"
     ]
    }
   ],
   "source": [
    "'''\n",
    "Scripts to populate a data frame with 100 records.\n",
    "'''\n",
    "\n",
    "from pyspark.sql.functions import year, month, dayofmonth\n",
    "from pyspark.sql import SparkSession\n",
    "from datetime import date, timedelta\n",
    "from pyspark.sql.types import IntegerType, DateType, StringType, StructType, StructField\n",
    "\n",
    "print(spark.version)\n",
    "# Populate sample data\n",
    "start_date = date(2019, 1, 1)\n",
    "data = []\n",
    "for i in range(0, 50):\n",
    "    data.append({\"Country\": \"CN\", \"Date\": start_date +\n",
    "                 timedelta(days=i), \"Amount\": 10+i})\n",
    "    data.append({\"Country\": \"AU\", \"Date\": start_date +\n",
    "                 timedelta(days=i), \"Amount\": 10+i})\n",
    "\n",
    "schema = StructType([StructField('Country', StringType(), nullable=False),\n",
    "                     StructField('Date', DateType(), nullable=False),\n",
    "                     StructField('Amount', IntegerType(), nullable=False)])\n",
    "\n",
    "df = spark.createDataFrame(data, schema=schema)\n",
    "df.show()\n",
    "print(df.rdd.getNumPartitions())"
   ]
  },
  {
   "cell_type": "code",
   "execution_count": 6,
   "id": "ac12f727",
   "metadata": {},
   "outputs": [],
   "source": [
    "# Write data frame to file system\n",
    "# 8 sharded files will be generated for each partition under folder data/example.csv\n",
    "# 7 shards/files with 12 rows and one file with 16 rows\n",
    "df.count()\n",
    "df.write.mode(\"overwrite\").csv(\"data/example.csv\", header=True)\n"
   ]
  },
  {
   "cell_type": "markdown",
   "id": "f807a961",
   "metadata": {},
   "source": [
    "## Repartitioning with coalesce function\n",
    "This function is defined as the following:\n",
    "<pre>\n",
    "def coalesce(numPartitions)\n",
    "Returns a new :class:DataFrame that has exactly numPartitions partitions.\n",
    "</pre>\n",
    "\n",
    "This operation results in a narrow dependency, e.g. if you go from 1000 partitions to 100 partitions, there will not be a shuffle, instead each of the 100 new partitions will claim 10 of the current partitions. If a larger number of partitions is requested, it will stay at the current number of partitions.\n",
    "\n",
    "See below:\n",
    "Now if we run the following code, can you guess how many sharded files will be generated?\n",
    "The answer is still 8. **This is because coalesce function does’t involve reshuffle of data.** \n",
    "In the code below, we want to increase the partitions to 16 but the number of partitions\n",
    "stays at the current (8)"
   ]
  },
  {
   "cell_type": "code",
   "execution_count": 7,
   "id": "96882e43",
   "metadata": {},
   "outputs": [
    {
     "name": "stdout",
     "output_type": "stream",
     "text": [
      "8\n"
     ]
    }
   ],
   "source": [
    "df = df.coalesce(16)\n",
    "print(df.rdd.getNumPartitions())\n",
    "df.write.mode(\"overwrite\").csv(\"data/example.csv\", header=True)"
   ]
  },
  {
   "cell_type": "markdown",
   "id": "4e3843bb",
   "metadata": {},
   "source": [
    "If we decrease the partitions to 4 by running the following code, how many files will be generated? The answer is 4 "
   ]
  },
  {
   "cell_type": "code",
   "execution_count": 8,
   "id": "67526b28",
   "metadata": {},
   "outputs": [
    {
     "name": "stdout",
     "output_type": "stream",
     "text": [
      "4\n"
     ]
    }
   ],
   "source": [
    "df = df.coalesce(4)\n",
    "print(df.rdd.getNumPartitions())\n",
    "df.write.mode(\"overwrite\").csv(\"data/example.csv\", header=True)"
   ]
  },
  {
   "cell_type": "markdown",
   "id": "223b2201",
   "metadata": {},
   "source": [
    "## Repartitioning with repartition function\n",
    "The other method for repartitioning is repartition. It’s defined as the follows:\n",
    "<pre>\n",
    "def repartition(numPartitions, *cols)\n",
    "</pre>\n",
    "Returns a new :class:DataFrame partitioned by the given partitioning expressions. The resulting DataFrame is hash partitioned.\n",
    "\n",
    "numPartitions can be an int to specify the target number of partitions or a Column. If it is a Column, it will be used as the first partitioning column. If not specified, the default number of partitions is used.\n",
    "\n",
    "Added optional arguments to specify the partitioning columns. Also made numPartitions\n",
    "optional if partitioning columns are specified.\n",
    "\n",
    "Data reshuffle occurs when using this function. Let’s try some examples using the above dataset.\n",
    "\n",
    "### Repartition by number\n",
    "Use the code below to repartition the data to 10 partitions.\n",
    "Spark will try to evenly distribute the data to each partitions. If the total partition number is greater than the actual record count (or RDD size), some partitions will be empty. After we run the above code, data will be reshuffled to 10 partitions with 10 sharded files generated.\n",
    "\n",
    "If we repartition the data frame to 1000 partitions, how many sharded files will be generated?\n",
    "The answer is 100 because the other 900 partitions are empty and each file has one record."
   ]
  },
  {
   "cell_type": "code",
   "execution_count": 9,
   "id": "04e7ad71",
   "metadata": {},
   "outputs": [
    {
     "name": "stdout",
     "output_type": "stream",
     "text": [
      "1000\n"
     ]
    }
   ],
   "source": [
    "df = df.repartition(1000)\n",
    "print(df.rdd.getNumPartitions())\n",
    "df.write.mode(\"overwrite\").csv(\"data/example.csv\", header=True)"
   ]
  },
  {
   "cell_type": "markdown",
   "id": "db91a579",
   "metadata": {},
   "source": [
    "### Repartition by column\n",
    "We can also repartition by columns.\n",
    "For example, let’s run the code below to repartition the data by column Country.\n",
    "This will create 200 partitions (**Spark by default create 200 partitions**).  However only three sharded files are generated:\n",
    "- One file stores data for CN country.\n",
    "- Another file stores data for AU country.\n",
    "- The other one is empty."
   ]
  },
  {
   "cell_type": "code",
   "execution_count": 10,
   "id": "9d7ed39c",
   "metadata": {},
   "outputs": [
    {
     "name": "stdout",
     "output_type": "stream",
     "text": [
      "200\n"
     ]
    }
   ],
   "source": [
    "df = df.repartition(\"Country\")\n",
    "print(df.rdd.getNumPartitions())\n",
    "df.write.mode(\"overwrite\").csv(\"data/example.csv\", header=True)"
   ]
  },
  {
   "cell_type": "markdown",
   "id": "07b0e8c0",
   "metadata": {},
   "source": [
    "Similarly, if we can also partition the data by Date column:\n",
    "<pre>\n",
    "df = df.repartition(\"Date\")\n",
    "print(df.rdd.getNumPartitions())\n",
    "df.write.mode(\"overwrite\").csv(\"data/example.csv\", header=True)\n",
    "</pre>\n",
    "If you look into the data, you may find the data is probably not partitioned properly as you would expect, for example, one partition file only includes data for both countries and different dates too.\n",
    "\n",
    "**This is because by default Spark use hash partitioning as partition function**. You can use range partitioning function or customize the partition functions."
   ]
  },
  {
   "cell_type": "markdown",
   "id": "a73ecb34",
   "metadata": {},
   "source": [
    "### Partition by multiple columns\n",
    "In real world, you would probably partition your data by multiple columns. To implement the multiple column partitioning strategy, we need to derive some new columns (year, month, date). Code below derives some new columns and then repartition the data frame with those columns.\n",
    "\n",
    "When you look into the saved files, you may find that all the new columns are also saved and the files still mix different sub partitions. To improve this, we need to match our write partition keys with repartition keys."
   ]
  },
  {
   "cell_type": "code",
   "execution_count": 11,
   "id": "06ad989e",
   "metadata": {},
   "outputs": [
    {
     "name": "stdout",
     "output_type": "stream",
     "text": [
      "+-------+----------+------+----+-----+---+\n",
      "|Country|      Date|Amount|Year|Month|Day|\n",
      "+-------+----------+------+----+-----+---+\n",
      "|     AU|2019-01-21|    30|2019|    1| 21|\n",
      "|     CN|2019-01-29|    38|2019|    1| 29|\n",
      "|     AU|2019-01-19|    28|2019|    1| 19|\n",
      "|     AU|2019-02-02|    42|2019|    2|  2|\n",
      "|     AU|2019-02-07|    47|2019|    2|  7|\n",
      "|     AU|2019-02-05|    45|2019|    2|  5|\n",
      "|     AU|2019-02-08|    48|2019|    2|  8|\n",
      "|     CN|2019-01-27|    36|2019|    1| 27|\n",
      "|     CN|2019-01-21|    30|2019|    1| 21|\n",
      "|     CN|2019-01-25|    34|2019|    1| 25|\n",
      "|     CN|2019-02-06|    46|2019|    2|  6|\n",
      "|     AU|2019-01-11|    20|2019|    1| 11|\n",
      "|     CN|2019-01-19|    28|2019|    1| 19|\n",
      "|     CN|2019-02-19|    59|2019|    2| 19|\n",
      "|     AU|2019-02-03|    43|2019|    2|  3|\n",
      "|     AU|2019-02-09|    49|2019|    2|  9|\n",
      "|     CN|2019-01-14|    23|2019|    1| 14|\n",
      "|     AU|2019-01-16|    25|2019|    1| 16|\n",
      "|     CN|2019-02-16|    56|2019|    2| 16|\n",
      "|     AU|2019-01-10|    19|2019|    1| 10|\n",
      "+-------+----------+------+----+-----+---+\n",
      "only showing top 20 rows\n",
      "\n",
      "200\n"
     ]
    }
   ],
   "source": [
    "# derive some new columns (year, month, date)\n",
    "df = df.withColumn(\"Year\", year(\"Date\")).withColumn(\n",
    "\"Month\", month(\"Date\")).withColumn(\"Day\", dayofmonth(\"Date\"))\n",
    "# repartition the data frame with new columns\n",
    "df = df.repartition(\"Year\", \"Month\", \"Day\", \"Country\")\n",
    "df.show()\n",
    "print(df.rdd.getNumPartitions())\n",
    "df.write.mode(\"overwrite\").csv(\"data/example.csv\", header=True)"
   ]
  },
  {
   "attachments": {
    "image.png": {
     "image/png": "[encoded data removed]"
    }
   },
   "cell_type": "markdown",
   "id": "9bb37ed0",
   "metadata": {},
   "source": [
    "### partitionBy\n",
    "When you look into the saved files, you may find that all the new columns are also saved and the files still mix different sub partitions. To improve this, we need to match our write partition keys with repartition keys.\n",
    "To match partition keys, we just need to change the last line to add a partitionBy function:\n",
    "\n",
    "When you open the generated files, you will also find that all the partitioning columns/keys are removed from the serialized data files.\n",
    "![image.png](attachment:image.png)\n",
    "In this way, the storage cost is also less. With partitioned data, we can also easily append data to new subfolders instead of operating on the complete data set."
   ]
  },
  {
   "cell_type": "code",
   "execution_count": 12,
   "id": "f7c8f858",
   "metadata": {},
   "outputs": [
    {
     "name": "stdout",
     "output_type": "stream",
     "text": [
      "+-------+----------+------+----+-----+---+\n",
      "|Country|      Date|Amount|Year|Month|Day|\n",
      "+-------+----------+------+----+-----+---+\n",
      "|     AU|2019-01-21|    30|2019|    1| 21|\n",
      "|     CN|2019-01-29|    38|2019|    1| 29|\n",
      "|     AU|2019-01-19|    28|2019|    1| 19|\n",
      "|     AU|2019-02-02|    42|2019|    2|  2|\n",
      "|     AU|2019-02-07|    47|2019|    2|  7|\n",
      "|     AU|2019-02-05|    45|2019|    2|  5|\n",
      "|     AU|2019-02-08|    48|2019|    2|  8|\n",
      "|     CN|2019-01-27|    36|2019|    1| 27|\n",
      "|     CN|2019-01-21|    30|2019|    1| 21|\n",
      "|     CN|2019-01-25|    34|2019|    1| 25|\n",
      "|     CN|2019-02-06|    46|2019|    2|  6|\n",
      "|     AU|2019-01-11|    20|2019|    1| 11|\n",
      "|     CN|2019-01-19|    28|2019|    1| 19|\n",
      "|     CN|2019-02-19|    59|2019|    2| 19|\n",
      "|     AU|2019-02-03|    43|2019|    2|  3|\n",
      "|     AU|2019-02-09|    49|2019|    2|  9|\n",
      "|     CN|2019-01-14|    23|2019|    1| 14|\n",
      "|     AU|2019-01-16|    25|2019|    1| 16|\n",
      "|     CN|2019-02-16|    56|2019|    2| 16|\n",
      "|     AU|2019-01-10|    19|2019|    1| 10|\n",
      "+-------+----------+------+----+-----+---+\n",
      "only showing top 20 rows\n",
      "\n",
      "200\n"
     ]
    }
   ],
   "source": [
    "# derive some new columns (year, month, date)\n",
    "df = df.withColumn(\"Year\", year(\"Date\")).withColumn(\n",
    "\"Month\", month(\"Date\")).withColumn(\"Day\", dayofmonth(\"Date\"))\n",
    "# repartition the data frame with new columns\n",
    "df = df.repartition(\"Year\", \"Month\", \"Day\", \"Country\")\n",
    "df.show()\n",
    "print(df.rdd.getNumPartitions())\n",
    "df.write.partitionBy(\"Year\", \"Month\", \"Day\", \"Country\").mode(\n",
    "\"overwrite\").csv(\"data/example.csv\", header=True)"
   ]
  },
  {
   "cell_type": "markdown",
   "id": "7566bb5f",
   "metadata": {},
   "source": [
    "### Read partitioned Data\n",
    "\n",
    "Let’s read the data from the partitioned files with the these criteria:\n",
    "- Year= 2019\n",
    "- Month=2\n",
    "- Day=1\n",
    "- Country=CN"
   ]
  },
  {
   "cell_type": "code",
   "execution_count": 13,
   "id": "fe00b8c7",
   "metadata": {},
   "outputs": [
    {
     "name": "stdout",
     "output_type": "stream",
     "text": [
      "************************************************************\n",
      "Partitions in this dataframe 1\n",
      "************************************************************\n",
      "+----------+------+\n",
      "|       _c0|   _c1|\n",
      "+----------+------+\n",
      "|      Date|Amount|\n",
      "|2019-02-01|    41|\n",
      "+----------+------+\n",
      "\n"
     ]
    }
   ],
   "source": [
    "df = spark.read.csv(\"data/example.csv/Year=2019/Month=2/Day=1/Country=CN\")\n",
    "print('*'*60)\n",
    "print(f'Partitions in this dataframe {df.rdd.getNumPartitions()}')\n",
    "print('*'*60)\n",
    "df.show()"
   ]
  },
  {
   "cell_type": "markdown",
   "id": "9fa48510",
   "metadata": {},
   "source": [
    "- Query all the data for the second month:"
   ]
  },
  {
   "cell_type": "code",
   "execution_count": 14,
   "id": "5c50c538",
   "metadata": {},
   "outputs": [
    {
     "name": "stdout",
     "output_type": "stream",
     "text": [
      "************************************************************\n",
      "Partitions in this dataframe 8\n",
      "************************************************************\n",
      "+----------+------+---+-------+\n",
      "|       _c0|   _c1|Day|Country|\n",
      "+----------+------+---+-------+\n",
      "|      Date|Amount| 15|     CN|\n",
      "|2019-02-15|    55| 15|     CN|\n",
      "|      Date|Amount| 14|     AU|\n",
      "|2019-02-14|    54| 14|     AU|\n",
      "|      Date|Amount| 17|     CN|\n",
      "|2019-02-17|    57| 17|     CN|\n",
      "|      Date|Amount| 14|     CN|\n",
      "|2019-02-14|    54| 14|     CN|\n",
      "|      Date|Amount|  1|     CN|\n",
      "|2019-02-01|    41|  1|     CN|\n",
      "|      Date|Amount|  8|     AU|\n",
      "|2019-02-08|    48|  8|     AU|\n",
      "|      Date|Amount| 17|     AU|\n",
      "|2019-02-17|    57| 17|     AU|\n",
      "|      Date|Amount| 13|     CN|\n",
      "|2019-02-13|    53| 13|     CN|\n",
      "|      Date|Amount|  9|     CN|\n",
      "|2019-02-09|    49|  9|     CN|\n",
      "|      Date|Amount| 11|     CN|\n",
      "|2019-02-11|    51| 11|     CN|\n",
      "+----------+------+---+-------+\n",
      "only showing top 20 rows\n",
      "\n"
     ]
    }
   ],
   "source": [
    "df = spark.read.csv(\"data/example.csv/Year=2019/Month=2\")\n",
    "print('*'*60)\n",
    "print(f'Partitions in this dataframe {df.rdd.getNumPartitions()}')\n",
    "print('*'*60)\n",
    "df.show()"
   ]
  },
  {
   "cell_type": "markdown",
   "id": "c5b3e69d",
   "metadata": {},
   "source": [
    "### Use wildcards for partition discovery\n",
    "We can use wildcards. Wildcards are supported for all file formats in partition discovery."
   ]
  },
  {
   "cell_type": "code",
   "execution_count": 15,
   "id": "884c6f90",
   "metadata": {},
   "outputs": [
    {
     "name": "stdout",
     "output_type": "stream",
     "text": [
      "************************************************************\n",
      "Wildcard with Country CN: Partitions in this dataframe 8\n",
      "************************************************************\n",
      "+----------+------+----+-----+---+-------+\n",
      "|       _c0|   _c1|Year|Month|Day|Country|\n",
      "+----------+------+----+-----+---+-------+\n",
      "|      Date|Amount|2019|    2| 15|     CN|\n",
      "|2019-02-15|    55|2019|    2| 15|     CN|\n",
      "|      Date|Amount|2019|    1| 29|     CN|\n",
      "|2019-01-29|    38|2019|    1| 29|     CN|\n",
      "|      Date|Amount|2019|    2| 17|     CN|\n",
      "|2019-02-17|    57|2019|    2| 17|     CN|\n",
      "|      Date|Amount|2019|    1| 18|     CN|\n",
      "|2019-01-18|    27|2019|    1| 18|     CN|\n",
      "|      Date|Amount|2019|    1|  3|     CN|\n",
      "|2019-01-03|    12|2019|    1|  3|     CN|\n",
      "|      Date|Amount|2019|    1| 21|     CN|\n",
      "|2019-01-21|    30|2019|    1| 21|     CN|\n",
      "|      Date|Amount|2019|    1| 13|     CN|\n",
      "|2019-01-13|    22|2019|    1| 13|     CN|\n",
      "|      Date|Amount|2019|    1| 26|     CN|\n",
      "|2019-01-26|    35|2019|    1| 26|     CN|\n",
      "|      Date|Amount|2019|    2| 14|     CN|\n",
      "|2019-02-14|    54|2019|    2| 14|     CN|\n",
      "|      Date|Amount|2019|    2|  1|     CN|\n",
      "|2019-02-01|    41|2019|    2|  1|     CN|\n",
      "+----------+------+----+-----+---+-------+\n",
      "only showing top 20 rows\n",
      "\n"
     ]
    }
   ],
   "source": [
    "df = spark.read.option(\"basePath\", \"data/example.csv/\").csv(\n",
    "\"data/example.csv/Year=*/Month=*/Day=*/Country=CN\")\n",
    "print('*'*60)\n",
    "print(f'Wildcard with Country CN: Partitions in this dataframe {df.rdd.getNumPartitions()}')\n",
    "print('*'*60)\n",
    "df.show()"
   ]
  },
  {
   "cell_type": "code",
   "execution_count": 16,
   "id": "5f7284c1",
   "metadata": {},
   "outputs": [
    {
     "name": "stdout",
     "output_type": "stream",
     "text": [
      "************************************************************\n",
      "Wildcard with Country AU and Month 2: Partitions in this dataframe 7\n",
      "************************************************************\n",
      "+----------+------+----+-----+---+-------+\n",
      "|       _c0|   _c1|Year|Month|Day|Country|\n",
      "+----------+------+----+-----+---+-------+\n",
      "|      Date|Amount|2019|    2| 14|     AU|\n",
      "|2019-02-14|    54|2019|    2| 14|     AU|\n",
      "|      Date|Amount|2019|    2|  8|     AU|\n",
      "|2019-02-08|    48|2019|    2|  8|     AU|\n",
      "|      Date|Amount|2019|    2| 17|     AU|\n",
      "|2019-02-17|    57|2019|    2| 17|     AU|\n",
      "|      Date|Amount|2019|    2| 13|     AU|\n",
      "|2019-02-13|    53|2019|    2| 13|     AU|\n",
      "|      Date|Amount|2019|    2| 19|     AU|\n",
      "|2019-02-19|    59|2019|    2| 19|     AU|\n",
      "|      Date|Amount|2019|    2| 15|     AU|\n",
      "|2019-02-15|    55|2019|    2| 15|     AU|\n",
      "|      Date|Amount|2019|    2|  5|     AU|\n",
      "|2019-02-05|    45|2019|    2|  5|     AU|\n",
      "|      Date|Amount|2019|    2| 10|     AU|\n",
      "|2019-02-10|    50|2019|    2| 10|     AU|\n",
      "|      Date|Amount|2019|    2|  2|     AU|\n",
      "|2019-02-02|    42|2019|    2|  2|     AU|\n",
      "|      Date|Amount|2019|    2|  9|     AU|\n",
      "|2019-02-09|    49|2019|    2|  9|     AU|\n",
      "+----------+------+----+-----+---+-------+\n",
      "only showing top 20 rows\n",
      "\n"
     ]
    }
   ],
   "source": [
    "df = spark.read.option(\"basePath\", \"data/example.csv/\").csv(\n",
    "\"data/example.csv/Year=*/Month=2/Day=*/Country=AU\")\n",
    "print('*'*60)\n",
    "print(f'Wildcard with Country AU and Month 2: Partitions in this dataframe {df.rdd.getNumPartitions()}')\n",
    "print('*'*60)\n",
    "df.show()"
   ]
  },
  {
   "cell_type": "markdown",
   "id": "e20ffa39",
   "metadata": {},
   "source": [
    "## Print partition details"
   ]
  },
  {
   "cell_type": "code",
   "execution_count": 17,
   "id": "b1afc8f6",
   "metadata": {},
   "outputs": [],
   "source": [
    "#\n",
    "# funtion to print partition details  \n",
    "# print_partitions function will print out all the details about the RDD partitions\n",
    "# including the rows in each partition.\n",
    "#\n",
    "def print_partitions(df):\n",
    "    numPartitions = df.rdd.getNumPartitions()\n",
    "    print(\"Total partitions: {}\".format(numPartitions))\n",
    "    print(\"Partitioner: {}\".format(df.rdd.partitioner))\n",
    "    df.explain()\n",
    "    parts = df.rdd.glom().collect()\n",
    "    i = 0\n",
    "    j = 0\n",
    "    for p in parts:\n",
    "        print(\"Partition {}:\".format(i))\n",
    "        for r in p:\n",
    "            print(\"Row {}:{}\".format(j, r))\n",
    "            j = j+1\n",
    "        i = i+1"
   ]
  },
  {
   "cell_type": "code",
   "execution_count": 18,
   "id": "7f3cab95",
   "metadata": {},
   "outputs": [
    {
     "name": "stdout",
     "output_type": "stream",
     "text": [
      "+------+-------+---+\n",
      "|Amount|Country| ID|\n",
      "+------+-------+---+\n",
      "|    11|     AU|  1|\n",
      "|    12|     US|  2|\n",
      "|    13|     CN|  3|\n",
      "|    14|     AU|  4|\n",
      "|    15|     US|  5|\n",
      "|    16|     CN|  6|\n",
      "|    17|     AU|  7|\n",
      "|    18|     US|  8|\n",
      "|    19|     CN|  9|\n",
      "|    20|     AU| 10|\n",
      "|    21|     US| 11|\n",
      "|    22|     CN| 12|\n",
      "+------+-------+---+\n",
      "\n",
      "Total partitions: 8\n",
      "Partitioner: None\n",
      "== Physical Plan ==\n",
      "*(1) Scan ExistingRDD[Amount#387L,Country#388,ID#389L]\n",
      "\n",
      "\n",
      "Partition 0:\n",
      "Row 0:Row(Amount=11, Country='AU', ID=1)\n",
      "Partition 1:\n",
      "Row 1:Row(Amount=12, Country='US', ID=2)\n",
      "Row 2:Row(Amount=13, Country='CN', ID=3)\n",
      "Partition 2:\n",
      "Row 3:Row(Amount=14, Country='AU', ID=4)\n",
      "Partition 3:\n",
      "Row 4:Row(Amount=15, Country='US', ID=5)\n",
      "Row 5:Row(Amount=16, Country='CN', ID=6)\n",
      "Partition 4:\n",
      "Row 6:Row(Amount=17, Country='AU', ID=7)\n",
      "Partition 5:\n",
      "Row 7:Row(Amount=18, Country='US', ID=8)\n",
      "Row 8:Row(Amount=19, Country='CN', ID=9)\n",
      "Partition 6:\n",
      "Row 9:Row(Amount=20, Country='AU', ID=10)\n",
      "Partition 7:\n",
      "Row 10:Row(Amount=21, Country='US', ID=11)\n",
      "Row 11:Row(Amount=22, Country='CN', ID=12)\n"
     ]
    }
   ],
   "source": [
    "# Populate sample data\n",
    "countries = (\"CN\", \"AU\", \"US\")\n",
    "data = []\n",
    "for i in range(1, 13):\n",
    "    data.append({\"ID\": i, \"Country\": countries[i % 3],  \"Amount\": 10+i})\n",
    "\n",
    "df = spark.createDataFrame(data)\n",
    "df.show()\n",
    "print_partitions(df)    "
   ]
  },
  {
   "cell_type": "code",
   "execution_count": 19,
   "id": "846a3b81",
   "metadata": {
    "scrolled": true
   },
   "outputs": [
    {
     "name": "stdout",
     "output_type": "stream",
     "text": [
      "Total partitions: 3\n",
      "Partitioner: None\n",
      "== Physical Plan ==\n",
      "Exchange hashpartitioning(Country#388, 3), REPARTITION_WITH_NUM, [id=#553]\n",
      "+- *(1) Scan ExistingRDD[Amount#387L,Country#388,ID#389L]\n",
      "\n",
      "\n",
      "Partition 0:\n",
      "Partition 1:\n",
      "Row 0:Row(Amount=12, Country='US', ID=2)\n",
      "Row 1:Row(Amount=13, Country='CN', ID=3)\n",
      "Row 2:Row(Amount=15, Country='US', ID=5)\n",
      "Row 3:Row(Amount=16, Country='CN', ID=6)\n",
      "Row 4:Row(Amount=18, Country='US', ID=8)\n",
      "Row 5:Row(Amount=19, Country='CN', ID=9)\n",
      "Row 6:Row(Amount=21, Country='US', ID=11)\n",
      "Row 7:Row(Amount=22, Country='CN', ID=12)\n",
      "Partition 2:\n",
      "Row 8:Row(Amount=11, Country='AU', ID=1)\n",
      "Row 9:Row(Amount=14, Country='AU', ID=4)\n",
      "Row 10:Row(Amount=17, Country='AU', ID=7)\n",
      "Row 11:Row(Amount=20, Country='AU', ID=10)\n"
     ]
    }
   ],
   "source": [
    "# Repartition data\n",
    "# Let’s repartition the data to three partitions only by Country column.\n",
    "\n",
    "numPartitions = 3\n",
    "df = df.repartition(numPartitions, \"Country\")\n",
    "print_partitions(df)"
   ]
  },
  {
   "cell_type": "markdown",
   "id": "daf0ff15",
   "metadata": {},
   "source": [
    "## Hashpartition\n",
    "You may expect that each partition includes data for each Country but that is not the case. \n",
    "Why? Because repartition function by default uses hash partitioning. For different country code,\n",
    "it may be allocated into the same partition number.\n",
    "\n",
    "We can verify this by using the following code to calculate the hash."
   ]
  },
  {
   "cell_type": "code",
   "execution_count": 20,
   "id": "184cc163",
   "metadata": {},
   "outputs": [
    {
     "name": "stdout",
     "output_type": "stream",
     "text": [
      "+------+-------+---+--------------------+----------+\n",
      "|Amount|Country| ID|               Hash#|Partition#|\n",
      "+------+-------+---+--------------------+----------+\n",
      "|    12|     US|  2|-8328537658613580243|      -1.0|\n",
      "|    13|     CN|  3|-7458853143580063552|      -1.0|\n",
      "|    15|     US|  5|-8328537658613580243|      -1.0|\n",
      "|    16|     CN|  6|-7458853143580063552|      -1.0|\n",
      "|    18|     US|  8|-8328537658613580243|      -1.0|\n",
      "|    19|     CN|  9|-7458853143580063552|      -1.0|\n",
      "|    21|     US| 11|-8328537658613580243|      -1.0|\n",
      "|    22|     CN| 12|-7458853143580063552|      -1.0|\n",
      "|    11|     AU|  1| 6593628092971972691|       0.0|\n",
      "|    14|     AU|  4| 6593628092971972691|       0.0|\n",
      "|    17|     AU|  7| 6593628092971972691|       0.0|\n",
      "|    20|     AU| 10| 6593628092971972691|       0.0|\n",
      "+------+-------+---+--------------------+----------+\n",
      "\n"
     ]
    }
   ],
   "source": [
    "from pyspark.sql.functions import udf\n",
    "from pyspark.rdd import portable_hash\n",
    "\n",
    "# define udf\n",
    "udf_portable_hash = udf(lambda str: portable_hash(str))\n",
    "\n",
    "df = df.withColumn(\"Hash#\", udf_portable_hash(df.Country))\n",
    "df = df.withColumn(\"Partition#\", df[\"Hash#\"] % numPartitions)\n",
    "df.show()"
   ]
  },
  {
   "cell_type": "markdown",
   "id": "da397259",
   "metadata": {},
   "source": [
    "## Allocate one partition for each key value\n",
    "For the above example, if we want to allocate one partition for each Country (CN, US, AU), what should we do?\n",
    "\n",
    "Well, the first thing we can try is to increase the partition number. In this way, the chance for allocating each different value to different partition is higher."
   ]
  },
  {
   "cell_type": "code",
   "execution_count": 21,
   "id": "8f58cebe",
   "metadata": {},
   "outputs": [
    {
     "name": "stdout",
     "output_type": "stream",
     "text": [
      "Total partitions: 5\n",
      "Partitioner: None\n",
      "== Physical Plan ==\n",
      "Exchange hashpartitioning(Country#388, 5), REPARTITION_WITH_NUM, [id=#604]\n",
      "+- *(2) Project [Amount#387L, Country#388, ID#389L, pythonUDF0#440 AS Hash##407, (cast(pythonUDF0#440 as double) % 3.0) AS Partition##412]\n",
      "   +- BatchEvalPython [<lambda>(Country#388)], [pythonUDF0#440]\n",
      "      +- Exchange hashpartitioning(Country#388, 3), REPARTITION_WITH_NUM, [id=#599]\n",
      "         +- *(1) Scan ExistingRDD[Amount#387L,Country#388,ID#389L]\n",
      "\n",
      "\n",
      "Partition 0:\n",
      "Partition 1:\n",
      "Partition 2:\n",
      "Row 0:Row(Amount=12, Country='US', ID=2, Hash#='-8328537658613580243', Partition#=-1.0)\n",
      "Row 1:Row(Amount=15, Country='US', ID=5, Hash#='-8328537658613580243', Partition#=-1.0)\n",
      "Row 2:Row(Amount=18, Country='US', ID=8, Hash#='-8328537658613580243', Partition#=-1.0)\n",
      "Row 3:Row(Amount=21, Country='US', ID=11, Hash#='-8328537658613580243', Partition#=-1.0)\n",
      "Partition 3:\n",
      "Row 4:Row(Amount=13, Country='CN', ID=3, Hash#='-7458853143580063552', Partition#=-1.0)\n",
      "Row 5:Row(Amount=16, Country='CN', ID=6, Hash#='-7458853143580063552', Partition#=-1.0)\n",
      "Row 6:Row(Amount=19, Country='CN', ID=9, Hash#='-7458853143580063552', Partition#=-1.0)\n",
      "Row 7:Row(Amount=22, Country='CN', ID=12, Hash#='-7458853143580063552', Partition#=-1.0)\n",
      "Partition 4:\n",
      "Row 8:Row(Amount=11, Country='AU', ID=1, Hash#='6593628092971972691', Partition#=0.0)\n",
      "Row 9:Row(Amount=14, Country='AU', ID=4, Hash#='6593628092971972691', Partition#=0.0)\n",
      "Row 10:Row(Amount=17, Country='AU', ID=7, Hash#='6593628092971972691', Partition#=0.0)\n",
      "Row 11:Row(Amount=20, Country='AU', ID=10, Hash#='6593628092971972691', Partition#=0.0)\n"
     ]
    }
   ],
   "source": [
    "numPartitions = 5\n",
    "\n",
    "df = df.repartition(numPartitions, \"Country\")\n",
    "print_partitions(df)"
   ]
  },
  {
   "cell_type": "code",
   "execution_count": 22,
   "id": "57a689f9",
   "metadata": {},
   "outputs": [
    {
     "name": "stdout",
     "output_type": "stream",
     "text": [
      "+------+-------+---+--------------------+----------+\n",
      "|Amount|Country| ID|               Hash#|Partition#|\n",
      "+------+-------+---+--------------------+----------+\n",
      "|    12|     US|  2|-8328537658613580243|      -1.0|\n",
      "|    15|     US|  5|-8328537658613580243|      -1.0|\n",
      "|    18|     US|  8|-8328537658613580243|      -1.0|\n",
      "|    21|     US| 11|-8328537658613580243|      -1.0|\n",
      "|    13|     CN|  3|-7458853143580063552|      -4.0|\n",
      "|    16|     CN|  6|-7458853143580063552|      -4.0|\n",
      "|    19|     CN|  9|-7458853143580063552|      -4.0|\n",
      "|    22|     CN| 12|-7458853143580063552|      -4.0|\n",
      "|    11|     AU|  1| 6593628092971972691|       3.0|\n",
      "|    14|     AU|  4| 6593628092971972691|       3.0|\n",
      "|    17|     AU|  7| 6593628092971972691|       3.0|\n",
      "|    20|     AU| 10| 6593628092971972691|       3.0|\n",
      "+------+-------+---+--------------------+----------+\n",
      "\n"
     ]
    }
   ],
   "source": [
    "udf_portable_hash = udf(lambda str: portable_hash(str))\n",
    "df = df.withColumn(\"Hash#\", udf_portable_hash(df.Country))\n",
    "df = df.withColumn(\"Partition#\", df[\"Hash#\"] % numPartitions)\n",
    "df.show()"
   ]
  },
  {
   "cell_type": "markdown",
   "id": "76d8032d",
   "metadata": {},
   "source": [
    "**Note***  the hashing algorithm generates the same hash code/number for the row with country US"
   ]
  },
  {
   "cell_type": "code",
   "execution_count": 23,
   "id": "8be2d43e",
   "metadata": {},
   "outputs": [
    {
     "data": {
      "text/plain": [
       "'\\nnotice here we do not specify the number of partitions at repartition time \\nit uses the default numbe for of partitions which is 200\\nand you will notice this process will get very slow.\\ncommented out on purpose\\n'"
      ]
     },
     "execution_count": 23,
     "metadata": {},
     "output_type": "execute_result"
    }
   ],
   "source": [
    "'''\n",
    "notice here we do not specify the number of partitions at repartition time \n",
    "it uses the default numbe for of partitions which is 200\n",
    "and you will notice this process will get very slow.\n",
    "commented out on purpose\n",
    "'''\n",
    "# df = df.repartition(\"Country\")\n",
    "# print_partitions(df)\n",
    "\n",
    "# udf_portable_hash = udf(lambda str: portable_hash(str))\n",
    "# df = df.withColumn(\"Hash#\", udf_portable_hash(df.Country))\n",
    "# df = df.withColumn(\"Partition#\", df[\"Hash#\"] % numPartitions)\n",
    "# df.show()"
   ]
  },
  {
   "cell_type": "markdown",
   "id": "a20e7cc3",
   "metadata": {},
   "source": [
    "## Custom partition using user defined partition column\n",
    "There is no direct way to apply user defined partitioner on PySpark, the short cut is to create a new column with a UDF, assigning each record with a partition ID based on the business logic. And use the new column for partitioning, that way the data gets spread evenly"
   ]
  },
  {
   "cell_type": "code",
   "execution_count": 24,
   "id": "918078c7",
   "metadata": {},
   "outputs": [
    {
     "name": "stdout",
     "output_type": "stream",
     "text": [
      "--------------------------------------------------------------------------------\n",
      "+------+-------+---+-----+----------+\n",
      "|Amount|Country| ID|Hash#|Partition#|\n",
      "+------+-------+---+-----+----------+\n",
      "|    17|     AU|  7|  200|       2.0|\n",
      "|    11|     AU|  1|  200|       2.0|\n",
      "|    14|     AU|  4|  200|       2.0|\n",
      "|    20|     AU| 10|  200|       2.0|\n",
      "|    13|     CN|  3|  100|       1.0|\n",
      "|    19|     CN|  9|  100|       1.0|\n",
      "|    16|     CN|  6|  100|       1.0|\n",
      "|    22|     CN| 12|  100|       1.0|\n",
      "|    12|     US|  2|  300|       0.0|\n",
      "|    15|     US|  5|  300|       0.0|\n",
      "|    18|     US|  8|  300|       0.0|\n",
      "|    21|     US| 11|  300|       0.0|\n",
      "+------+-------+---+-----+----------+\n",
      "\n",
      "Total partitions: 3\n",
      "Partitioner: None\n",
      "== Physical Plan ==\n",
      "Exchange hashpartitioning(Partition##488, 3), REPARTITION_WITH_NUM, [id=#670]\n",
      "+- *(2) Project [Amount#476L, Country#477, ID#478L, pythonUDF0#516 AS Hash##483, (cast(pythonUDF0#516 as double) % 3.0) AS Partition##488]\n",
      "   +- BatchEvalPython [<lambda>(Country#477)], [pythonUDF0#516]\n",
      "      +- *(1) Scan ExistingRDD[Amount#476L,Country#477,ID#478L]\n",
      "\n",
      "\n",
      "Partition 0:\n",
      "Row 0:Row(Amount=11, Country='AU', ID=1, Hash#='200', Partition#=2.0)\n",
      "Row 1:Row(Amount=14, Country='AU', ID=4, Hash#='200', Partition#=2.0)\n",
      "Row 2:Row(Amount=17, Country='AU', ID=7, Hash#='200', Partition#=2.0)\n",
      "Row 3:Row(Amount=20, Country='AU', ID=10, Hash#='200', Partition#=2.0)\n",
      "Partition 1:\n",
      "Row 4:Row(Amount=12, Country='US', ID=2, Hash#='300', Partition#=0.0)\n",
      "Row 5:Row(Amount=15, Country='US', ID=5, Hash#='300', Partition#=0.0)\n",
      "Row 6:Row(Amount=18, Country='US', ID=8, Hash#='300', Partition#=0.0)\n",
      "Row 7:Row(Amount=21, Country='US', ID=11, Hash#='300', Partition#=0.0)\n",
      "Partition 2:\n",
      "Row 8:Row(Amount=13, Country='CN', ID=3, Hash#='100', Partition#=1.0)\n",
      "Row 9:Row(Amount=16, Country='CN', ID=6, Hash#='100', Partition#=1.0)\n",
      "Row 10:Row(Amount=19, Country='CN', ID=9, Hash#='100', Partition#=1.0)\n",
      "Row 11:Row(Amount=22, Country='CN', ID=12, Hash#='100', Partition#=1.0)\n"
     ]
    }
   ],
   "source": [
    "import pyspark.sql.functions as F\n",
    "from pyspark.rdd import portable_hash\n",
    "\n",
    "# Populate sample data again\n",
    "countries = (\"CN\", \"AU\", \"US\")\n",
    "data = []\n",
    "for i in range(1, 13):\n",
    "    data.append({\"ID\": i, \"Country\": countries[i % 3],  \"Amount\": 10+i})\n",
    " \n",
    "df = spark.createDataFrame(data)\n",
    "# df.show()\n",
    "print(80*'-')\n",
    "# new column for partitioning\n",
    "countries = {\"CN\":100,\"AU\":200, \"US\":300}\n",
    "def country_partitioning(k):\n",
    "    return countries[k]\n",
    "    \n",
    "udf_country_hash = F.udf(lambda str: country_partitioning(str))\n",
    "             \n",
    "numPartitions = 3\n",
    "df = df.withColumn(\"Hash#\", udf_country_hash(df['Country']))\n",
    "df = df.withColumn(\"Partition#\", df[\"Hash#\"] % numPartitions)\n",
    "df.orderBy('Country').show()   \n",
    "df=df.repartition(3, \"Partition#\")\n",
    "print_partitions(df)"
   ]
  }
 ],
 "metadata": {
  "kernelspec": {
   "display_name": "Python 3",
   "language": "python",
   "name": "python3"
  },
  "language_info": {
   "codemirror_mode": {
    "name": "ipython",
    "version": 3
   },
   "file_extension": ".py",
   "mimetype": "text/x-python",
   "name": "python",
   "nbconvert_exporter": "python",
   "pygments_lexer": "ipython3",
   "version": "3.8.8"
  }
 },
 "nbformat": 4,
 "nbformat_minor": 5
}
