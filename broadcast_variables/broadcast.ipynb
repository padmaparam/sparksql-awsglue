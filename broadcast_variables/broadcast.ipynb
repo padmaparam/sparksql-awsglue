{
 "cells": [
  {
   "cell_type": "code",
   "execution_count": 1,
   "id": "d0bb7306",
   "metadata": {},
   "outputs": [],
   "source": [
    "# enable pyspark\n",
    "import findspark\n",
    "findspark.init()"
   ]
  },
  {
   "cell_type": "code",
   "execution_count": 2,
   "id": "ea5c0074",
   "metadata": {},
   "outputs": [],
   "source": [
    "'''\n",
    "Scripts instantiates a SparkSession locally with 8 worker threads.\n",
    "'''\n",
    "appName = \"Broadcast variables\"\n",
    "master = \"local[8]\"\n",
    "from pyspark import SparkContext, SparkConf\n",
    "from pyspark.sql import SparkSession\n",
    "# Create Spark session\n",
    "conf = SparkConf().setMaster(master).setAppName(appName)\n",
    "spark = SparkSession.builder.config(conf=conf) \\\n",
    "    .enableHiveSupport() \\\n",
    "    .getOrCreate()\n",
    "# INFO/WARN/DEBUG\n",
    "# https://kontext.tech/column/spark/457/tutorial-turn-off-info-logs-in-spark\n",
    "spark.sparkContext.setLogLevel(\"INFO\")"
   ]
  },
  {
   "cell_type": "markdown",
   "id": "54eabb5a",
   "metadata": {},
   "source": [
    "### Broadcast Variables\n",
    "In PySpark Broadcast variables are read-only shared variables that are cached and available on all nodes in\n",
    "a cluster to be used by the tasks. **Instead of sending this data along with every task, pySpark caches the broadcast\n",
    "variable - this lookup info, on each node/machine**. The tasks use this cached info while executing the transformations. Each\n",
    "node/executor depending on number of cores could be running lots of tasks(spark recommends 2-3 tasks per CPU core).\n",
    "\n",
    "\n",
    "**PySpark RDD Broadcast variable example**\n",
    "Below is a very simple example of how to use broadcast variables on RDD. This example defines commonly used data (states) in a Map variable and distributes the variable using SparkContext.broadcast() and then use these variables on RDD map() transformation.\n",
    "\n",
    "ref: https://sparkbyexamples.com/pyspark/pyspark-broadcast-variables/"
   ]
  },
  {
   "cell_type": "code",
   "execution_count": 4,
   "id": "c9423682",
   "metadata": {},
   "outputs": [
    {
     "name": "stdout",
     "output_type": "stream",
     "text": [
      "[('James', 'Smith', 'USA', 'California'), ('Michael', 'Rose', 'USA', 'New York'), ('Robert', 'Williams', 'USA', 'California'), ('Maria', 'Jones', 'USA', 'Florida')]\n"
     ]
    }
   ],
   "source": [
    "states = {\"NY\":\"New York\", \"CA\":\"California\", \"FL\":\"Florida\"}\n",
    "broadcastStates = spark.sparkContext.broadcast(states)\n",
    "data = [(\"James\",\"Smith\",\"USA\",\"CA\"),\n",
    "    (\"Michael\",\"Rose\",\"USA\",\"NY\"),\n",
    "    (\"Robert\",\"Williams\",\"USA\",\"CA\"),\n",
    "    (\"Maria\",\"Jones\",\"USA\",\"FL\")\n",
    "  ]\n",
    "\n",
    "rdd = spark.sparkContext.parallelize(data)\n",
    "\n",
    "def state_convert(code):\n",
    "    return broadcastStates.value[code]\n",
    "\n",
    "result = rdd.map(lambda x: (x[0],x[1],x[2],state_convert(x[3]))).collect()\n",
    "print(result)\n"
   ]
  }
 ],
 "metadata": {
  "kernelspec": {
   "display_name": "Python 3",
   "language": "python",
   "name": "python3"
  },
  "language_info": {
   "codemirror_mode": {
    "name": "ipython",
    "version": 3
   },
   "file_extension": ".py",
   "mimetype": "text/x-python",
   "name": "python",
   "nbconvert_exporter": "python",
   "pygments_lexer": "ipython3",
   "version": "3.8.8"
  }
 },
 "nbformat": 4,
 "nbformat_minor": 5
}
