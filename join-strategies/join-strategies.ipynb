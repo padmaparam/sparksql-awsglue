{
 "cells": [
  {
   "cell_type": "code",
   "execution_count": 1,
   "id": "d0bb7306",
   "metadata": {},
   "outputs": [],
   "source": [
    "# enable pyspark\n",
    "import findspark\n",
    "findspark.init()"
   ]
  },
  {
   "cell_type": "code",
   "execution_count": 2,
   "id": "ea5c0074",
   "metadata": {},
   "outputs": [],
   "source": [
    "'''\n",
    "Scripts instantiates a SparkSession locally with 8 worker threads.\n",
    "'''\n",
    "appName = \"Join Strategies - broadcast, Shuffle hash and sort-merge join, \"\n",
    "master = \"local[8]\"\n",
    "from pyspark import SparkContext, SparkConf\n",
    "from pyspark.sql import SparkSession\n",
    "# Create Spark session\n",
    "conf = SparkConf().setMaster(master).setAppName(appName)\n",
    "spark = SparkSession.builder.config(conf=conf) \\\n",
    "    .enableHiveSupport() \\\n",
    "    .getOrCreate()\n",
    "# INFO/WARN/DEBUG\n",
    "# https://kontext.tech/column/spark/457/tutorial-turn-off-info-logs-in-spark\n",
    "spark.sparkContext.setLogLevel(\"INFO\")"
   ]
  },
  {
   "cell_type": "markdown",
   "id": "32361e1e",
   "metadata": {},
   "source": [
    "### Broadcast Variables\n",
    "In PySpark Broadcast variables are read-only shared variables that are cached and available on all nodes in\n",
    "a cluster to be used by the tasks. **Instead of sending this data along with every task, pySpark caches the broadcast\n",
    "variable - this lookup info, on each node/machine**. The tasks use this cached info while executing the transformations. Each\n",
    "node/executor depending on number of cores could be running lots of tasks(spark recommends 2-3 tasks per CPU core).\n",
    "\n",
    "\n",
    "**PySpark RDD Broadcast variable example**\n",
    "Below is a very simple example of how to use broadcast variables on RDD. This example defines commonly used data (states) in a Map variable and distributes the variable using SparkContext.broadcast() and then use these variables on RDD map() transformation.\n",
    "\n",
    "ref: https://sparkbyexamples.com/pyspark/pyspark-broadcast-variables/"
   ]
  },
  {
   "cell_type": "code",
   "execution_count": 4,
   "id": "018ee714",
   "metadata": {},
   "outputs": [
    {
     "name": "stdout",
     "output_type": "stream",
     "text": [
      "[('James', 'Smith', 'USA', 'California'), ('Michael', 'Rose', 'USA', 'New York'), ('Robert', 'Williams', 'USA', 'California'), ('Maria', 'Jones', 'USA', 'Florida')]\n"
     ]
    }
   ],
   "source": [
    "states = {\"NY\":\"New York\", \"CA\":\"California\", \"FL\":\"Florida\"}\n",
    "broadcastStates = spark.sparkContext.broadcast(states)\n",
    "data = [(\"James\",\"Smith\",\"USA\",\"CA\"),\n",
    "    (\"Michael\",\"Rose\",\"USA\",\"NY\"),\n",
    "    (\"Robert\",\"Williams\",\"USA\",\"CA\"),\n",
    "    (\"Maria\",\"Jones\",\"USA\",\"FL\")\n",
    "  ]\n",
    "\n",
    "rdd = spark.sparkContext.parallelize(data)\n",
    "\n",
    "def state_convert(code):\n",
    "    return broadcastStates.value[code]\n",
    "\n",
    "result = rdd.map(lambda x: (x[0],x[1],x[2],state_convert(x[3]))).collect()\n",
    "print(result)\n"
   ]
  },
  {
   "cell_type": "code",
   "execution_count": 5,
   "id": "57e82593",
   "metadata": {},
   "outputs": [
    {
     "name": "stdout",
     "output_type": "stream",
     "text": [
      "[]\n"
     ]
    }
   ],
   "source": [
    "# Print the tables in the catalog\n",
    "print(spark.catalog.listTables())"
   ]
  },
  {
   "cell_type": "code",
   "execution_count": 5,
   "id": "d908e908",
   "metadata": {},
   "outputs": [
    {
     "name": "stdout",
     "output_type": "stream",
     "text": [
      "default value for spark.sql.autoBroadcastJoinThreshold: 10485760b\n"
     ]
    }
   ],
   "source": [
    "print(f'default value for spark.sql.autoBroadcastJoinThreshold: {spark.conf.get(\"spark.sql.autoBroadcastJoinThreshold\")}')"
   ]
  },
  {
   "cell_type": "code",
   "execution_count": 10,
   "id": "5baff13f",
   "metadata": {},
   "outputs": [],
   "source": [
    "df1 = spark.range(100)\n",
    "df2 = spark.range(100)"
   ]
  },
  {
   "cell_type": "markdown",
   "id": "c600b1ca",
   "metadata": {},
   "source": [
    "First of all spark.sql.autoBroadcastJoinThreshold and broadcast hint are separate mechanisms. Even if autoBroadcastJoinThreshold is disabled setting broadcast hint will take precedence. With default settings:"
   ]
  },
  {
   "cell_type": "code",
   "execution_count": 12,
   "id": "09de6ec7",
   "metadata": {},
   "outputs": [
    {
     "name": "stdout",
     "output_type": "stream",
     "text": [
      "root\n",
      " |-- id: long (nullable = false)\n",
      "\n",
      "+---+\n",
      "| id|\n",
      "+---+\n",
      "|  0|\n",
      "|  1|\n",
      "|  2|\n",
      "|  3|\n",
      "|  4|\n",
      "|  5|\n",
      "|  6|\n",
      "|  7|\n",
      "|  8|\n",
      "|  9|\n",
      "| 10|\n",
      "| 11|\n",
      "| 12|\n",
      "| 13|\n",
      "| 14|\n",
      "| 15|\n",
      "| 16|\n",
      "| 17|\n",
      "| 18|\n",
      "| 19|\n",
      "+---+\n",
      "only showing top 20 rows\n",
      "\n"
     ]
    },
    {
     "data": {
      "text/plain": [
       "100"
      ]
     },
     "execution_count": 12,
     "metadata": {},
     "output_type": "execute_result"
    }
   ],
   "source": [
    "df1.printSchema()\n",
    "df1.show()\n",
    "df1.count()"
   ]
  },
  {
   "cell_type": "markdown",
   "id": "48049432",
   "metadata": {},
   "source": [
    "Spark will use autoBroadcastJoinThreshold and automatically broadcast data:"
   ]
  },
  {
   "cell_type": "code",
   "execution_count": 16,
   "id": "531cb1bc",
   "metadata": {},
   "outputs": [
    {
     "name": "stdout",
     "output_type": "stream",
     "text": [
      "== Physical Plan ==\n",
      "*(2) BroadcastHashJoin [id#4L], [id#6L], Inner, BuildRight, false\n",
      ":- *(2) Range (0, 100, step=1, splits=8)\n",
      "+- BroadcastExchange HashedRelationBroadcastMode(List(input[0, bigint, false]),false), [id=#77]\n",
      "   +- *(1) Range (0, 100, step=1, splits=8)\n",
      "\n",
      "\n"
     ]
    }
   ],
   "source": [
    "df1.join(df2, df1.id==df2.id, \"inner\").explain()"
   ]
  },
  {
   "cell_type": "code",
   "execution_count": 21,
   "id": "7d7a3250",
   "metadata": {},
   "outputs": [
    {
     "name": "stdout",
     "output_type": "stream",
     "text": [
      "== Physical Plan ==\n",
      "*(2) BroadcastHashJoin [id#4L], [id#6L], Inner, BuildRight, false\n",
      ":- *(2) Range (0, 100, step=1, splits=8)\n",
      "+- BroadcastExchange HashedRelationBroadcastMode(List(input[0, bigint, false]),false), [id=#161]\n",
      "   +- *(1) Range (0, 100, step=1, splits=8)\n",
      "\n",
      "\n"
     ]
    }
   ],
   "source": [
    " # Register the DataFrame as a SQL temporary view\n",
    "df1.createOrReplaceTempView(\"df1\")\n",
    "sqlDF1 = spark.sql(\"SELECT * FROM df1\")\n",
    "# sqlDF1.show()\n",
    "\n",
    "df2.createOrReplaceTempView(\"df2\")\n",
    "sqlDF2 = spark.sql(\"SELECT * FROM df2\")\n",
    "# sqlDF2.show()\n",
    "\n",
    "spark.sql(\n",
    " \"SELECT  /*+ MAPJOIN(df2) */ * FROM df1 JOIN df2 ON df1.id = df2.id\"\n",
    ").explain()\n"
   ]
  },
  {
   "cell_type": "code",
   "execution_count": 34,
   "id": "be5a1bb2",
   "metadata": {},
   "outputs": [
    {
     "name": "stdout",
     "output_type": "stream",
     "text": [
      "== Physical Plan ==\n",
      "*(2) BroadcastHashJoin [id#4L], [id#6L], Inner, BuildRight, false\n",
      ":- *(2) Range (0, 100, step=1, splits=8)\n",
      "+- BroadcastExchange HashedRelationBroadcastMode(List(input[0, bigint, false]),false), [id=#399]\n",
      "   +- *(1) Range (0, 100, step=1, splits=8)\n",
      "\n",
      "\n"
     ]
    }
   ],
   "source": [
    "# another way to hint broadcast with sql\n",
    "spark.sql(\n",
    " \"SELECT  /*+ BROADCAST(df2) */ * FROM df1 JOIN df2 ON df1.id = df2.id\"\n",
    ").explain()"
   ]
  },
  {
   "cell_type": "markdown",
   "id": "5d72b694",
   "metadata": {},
   "source": [
    "When we disable auto broadcast Spark will use standard SortMergeJoin: \n"
   ]
  },
  {
   "cell_type": "code",
   "execution_count": 29,
   "id": "ba56aed4",
   "metadata": {},
   "outputs": [
    {
     "name": "stdout",
     "output_type": "stream",
     "text": [
      "== Physical Plan ==\n",
      "*(5) SortMergeJoin [id#4L], [id#6L], Inner\n",
      ":- *(2) Sort [id#4L ASC NULLS FIRST], false, 0\n",
      ":  +- Exchange hashpartitioning(id#4L, 200), ENSURE_REQUIREMENTS, [id=#293]\n",
      ":     +- *(1) Range (0, 100, step=1, splits=8)\n",
      "+- *(4) Sort [id#6L ASC NULLS FIRST], false, 0\n",
      "   +- ReusedExchange [id#6L], Exchange hashpartitioning(id#4L, 200), ENSURE_REQUIREMENTS, [id=#293]\n",
      "\n",
      "\n"
     ]
    }
   ],
   "source": [
    "# When we disable auto broadcast Spark will use standard SortMergeJoin:\n",
    "spark.conf.set(\"spark.sql.autoBroadcastJoinThreshold\", -1)\n",
    "df1.join(df2, df1.id==df2.id, \"inner\").explain()"
   ]
  },
  {
   "cell_type": "code",
   "execution_count": 30,
   "id": "d4c0fa4a",
   "metadata": {},
   "outputs": [
    {
     "name": "stdout",
     "output_type": "stream",
     "text": [
      "== Physical Plan ==\n",
      "*(5) SortMergeJoin [id#4L], [id#6L], Inner\n",
      ":- *(2) Sort [id#4L ASC NULLS FIRST], false, 0\n",
      ":  +- Exchange hashpartitioning(id#4L, 200), ENSURE_REQUIREMENTS, [id=#339]\n",
      ":     +- *(1) Range (0, 100, step=1, splits=8)\n",
      "+- *(4) Sort [id#6L ASC NULLS FIRST], false, 0\n",
      "   +- ReusedExchange [id#6L], Exchange hashpartitioning(id#4L, 200), ENSURE_REQUIREMENTS, [id=#339]\n",
      "\n",
      "\n"
     ]
    }
   ],
   "source": [
    "spark.sql(\n",
    " \"SELECT   * FROM df1 JOIN df2 ON df1.id = df2.id\"\n",
    ").explain()\n"
   ]
  },
  {
   "cell_type": "markdown",
   "id": "07ceed72",
   "metadata": {},
   "source": [
    "When we disable auto broadcast Spark will use standard SortMergeJoin, **but can forced to use BroadcastHashJoin with broadcast hint**"
   ]
  },
  {
   "cell_type": "code",
   "execution_count": 33,
   "id": "5b60638e",
   "metadata": {},
   "outputs": [
    {
     "name": "stdout",
     "output_type": "stream",
     "text": [
      "== Physical Plan ==\n",
      "*(2) BroadcastHashJoin [id#4L], [id#6L], Inner, BuildRight, false\n",
      ":- *(2) Range (0, 100, step=1, splits=8)\n",
      "+- BroadcastExchange HashedRelationBroadcastMode(List(input[0, bigint, false]),false), [id=#381]\n",
      "   +- *(1) Range (0, 100, step=1, splits=8)\n",
      "\n",
      "\n"
     ]
    }
   ],
   "source": [
    "from pyspark.sql.functions import broadcast\n",
    "df1.join(broadcast(df2), df1.id==df2.id, \"inner\").explain()"
   ]
  }
 ],
 "metadata": {
  "kernelspec": {
   "display_name": "Python 3",
   "language": "python",
   "name": "python3"
  },
  "language_info": {
   "codemirror_mode": {
    "name": "ipython",
    "version": 3
   },
   "file_extension": ".py",
   "mimetype": "text/x-python",
   "name": "python",
   "nbconvert_exporter": "python",
   "pygments_lexer": "ipython3",
   "version": "3.8.8"
  }
 },
 "nbformat": 4,
 "nbformat_minor": 5
}
